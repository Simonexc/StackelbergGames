{
 "cells": [
  {
   "cell_type": "code",
   "id": "initial_id",
   "metadata": {
    "collapsed": true,
    "ExecuteTime": {
     "end_time": "2025-10-06T19:19:51.020229Z",
     "start_time": "2025-10-06T19:19:51.004282Z"
    }
   },
   "source": "import yaml",
   "outputs": [],
   "execution_count": 1
  },
  {
   "metadata": {
    "ExecuteTime": {
     "end_time": "2025-10-06T19:41:39.001626Z",
     "start_time": "2025-10-06T19:41:38.979930Z"
    }
   },
   "cell_type": "code",
   "source": [
    "import matplotlib.pyplot as plt\n",
    "import seaborn as sns\n",
    "import numpy as np\n",
    "from scipy.stats import wilcoxon\n",
    "from statsmodels.stats.multitest import multipletests\n",
    "\n",
    "dict_names = [\n",
    "    \"nn\",\n",
    "    \"gnn\",\n",
    "    \"gnn_transformer\",\n",
    "    \"coevosg\",\n",
    "]\n",
    "\n",
    "full_names = [\n",
    "    \"Feed-Forward Neural Network\",\n",
    "    \"Graph Neural Network\",\n",
    "    \"Graph Neural Network with Transformer\",\n",
    "    \"CoevoSG\",\n",
    "]\n",
    "\n",
    "def read_data(file_path):\n",
    "    with open(file_path, \"r\") as f:\n",
    "        data = yaml.safe_load(f)\n",
    "    return data\n",
    "\n",
    "sns.set(style=\"whitegrid\")\n",
    "def plot_density(data):\n",
    "    results = [get_data(data, key) for key in dict_names]\n",
    "    plt.figure(figsize=(10, 6))\n",
    "    for result, title in zip(results, full_names):\n",
    "        sns.kdeplot(data=result, fill=True, label=title)\n",
    "    plt.title(\"Comparison of reward distributions\")\n",
    "    plt.xlabel(\"Reward\")\n",
    "    plt.ylabel(\"Density\")\n",
    "    plt.legend()\n",
    "    #plt.xlim(-1, 1)\n",
    "    #plt.ylim(0, 5)\n",
    "    plt.grid()\n",
    "    plt.show()\n",
    "    \n",
    "def get_data(results, key):\n",
    "    out = []\n",
    "    for k in results:\n",
    "        if k.startswith(f\"{key}/\") and k.endswith(\"/raw\"):\n",
    "            out.extend(results[k])\n",
    "    return out\n",
    "\n",
    "def get_data_specific(results, key1, key2):\n",
    "    out = []\n",
    "    for k in results:\n",
    "        if k.startswith(f\"{key1}/{key2}/\") and k.endswith(\"/raw\"):\n",
    "            out.extend(results[k])\n",
    "    return out\n",
    "\n",
    "def compare_models(results, model1, model2, print_results=False):\n",
    "    data1 = get_data(results, model1)\n",
    "    data2 = get_data(results, model2)\n",
    "    \n",
    "    if len(data1) != len(data2):\n",
    "        raise ValueError(\"Data lengths do not match for comparison.\")\n",
    "    \n",
    "    stat, p_value = wilcoxon(np.array(data1) - np.array(data2), alternative=\"greater\")\n",
    "    if print_results:\n",
    "        print(f\"Wilcoxon test between {model1} and {model2}: statistic={stat:.3f}, p-value={p_value:.3f}\")\n",
    "        \n",
    "        if p_value < 0.05:\n",
    "            print(f\"Result: {model1} is statistically significantly better than {model2}.\")\n",
    "        else:\n",
    "            print(f\"Result: {model1} is not statistically significantly better than {model2}.\")\n",
    "        \n",
    "    return p_value\n",
    "\n",
    "def holm_bonferroni_correction(p_values):\n",
    "    corrected = multipletests(p_values, method='holm')\n",
    "    return corrected[1]  # Return the corrected p-values\n",
    "    \n",
    "def compare_many_models(results, compared_model, print_results=False):\n",
    "    models_to_compare = [\n",
    "        \"nn\", \"gnn\", \"gnn_transformer\", \"coevosg\"\n",
    "    ]\n",
    "    models_without_the_model = [model for model in models_to_compare if model != compared_model]\n",
    "    p_values = [compare_models(results, compared_model, model, print_results=False) for model in models_without_the_model]\n",
    "\n",
    "    corrected_p_values = holm_bonferroni_correction(p_values) \n",
    "    output = {}\n",
    "    if print_results:\n",
    "        print(f\"{compared_model} vs others p-values:\")\n",
    "    for model, p_value, org_p_value in zip(models_without_the_model, corrected_p_values, p_values):\n",
    "        output[model] = {\"p_value\": p_value, \"org_p_value\": org_p_value}\n",
    "        if print_results:\n",
    "            print(f\"{model}: {p_value:.5f}({org_p_value:.5f}) - {'Significantly' if p_value < 0.05 else 'Not significantly'} better\")\n",
    "    return output\n",
    "\n",
    "def compare_all_models(results, print_results=False):\n",
    "    all_results = {}\n",
    "    for model in dict_names:\n",
    "        all_results[model] = compare_many_models(results, model, print_results=False)\n",
    "    # print results as table\n",
    "    if print_results:\n",
    "        print(f\"{'Model':<30} {'Compared Model':<30} {'Corrected p-value':<20} {'Original p-value':<20} {'Significance':<15}\")\n",
    "        for model in dict_names:\n",
    "            for compared_model, values in all_results[model].items():\n",
    "                significance = 'Significantly' if values['p_value'] < 0.05 else 'Not significantly'\n",
    "                print(f\"{model:<30} {compared_model:<30} {values['p_value']:<20.5f} {values['org_p_value']:<20.5f} {significance:<15}\")\n",
    "    return all_results\n",
    "\n",
    "def get_summarized_results_for_all_models(data, print_results=False):\n",
    "    out = {}\n",
    "    for model in dict_names:\n",
    "        model_data = get_data(data, model)\n",
    "        mean = np.mean(model_data)\n",
    "        std = np.std(model_data)\n",
    "        out[model] = {\"mean\": mean, \"std\": std, \"n\": len(model_data)}\n",
    "    # print results as table\n",
    "    if print_results:\n",
    "        print(f\"{'Model':<30} {'Mean':<10} {'Std':<10} {'N':<10}\")\n",
    "        for model in dict_names:\n",
    "            print(f\"{model:<30} {out[model]['mean']:<10.4f} {out[model]['std']:<10.4f} {out[model]['n']:<10}\")\n",
    "    return out"
   ],
   "id": "5584f9587952a722",
   "outputs": [],
   "execution_count": 23
  },
  {
   "metadata": {
    "ExecuteTime": {
     "end_time": "2025-10-06T19:41:45.156103Z",
     "start_time": "2025-10-06T19:41:44.886317Z"
    }
   },
   "cell_type": "code",
   "source": [
    "flipit_25 = read_data(\"results/test_flipit_25_20_41.yaml\")\n",
    "_ = get_summarized_results_for_all_models(flipit_25, print_results=True)\n",
    "_ = compare_all_models(flipit_25, print_results=True)"
   ],
   "id": "9611480d7ffd2209",
   "outputs": [
    {
     "name": "stdout",
     "output_type": "stream",
     "text": [
      "Model                          Mean       Std        N         \n",
      "nn                             185.1861   47.4182    600       \n",
      "gnn                            178.3127   38.4722    600       \n",
      "gnn_transformer                208.6373   25.0413    600       \n",
      "coevosg                        182.1413   45.9021    600       \n",
      "Model                          Compared Model                 Corrected p-value    Original p-value     Significance   \n",
      "nn                             gnn                            0.00000              0.00000              Significantly  \n",
      "nn                             gnn_transformer                1.00000              1.00000              Not significantly\n",
      "nn                             coevosg                        0.00000              0.00000              Significantly  \n",
      "gnn                            nn                             1.00000              1.00000              Not significantly\n",
      "gnn                            gnn_transformer                1.00000              1.00000              Not significantly\n",
      "gnn                            coevosg                        1.00000              1.00000              Not significantly\n",
      "gnn_transformer                nn                             0.00000              0.00000              Significantly  \n",
      "gnn_transformer                gnn                            0.00000              0.00000              Significantly  \n",
      "gnn_transformer                coevosg                        0.00000              0.00000              Significantly  \n",
      "coevosg                        nn                             1.00000              1.00000              Not significantly\n",
      "coevosg                        gnn                            0.00000              0.00000              Significantly  \n",
      "coevosg                        gnn_transformer                1.00000              1.00000              Not significantly\n"
     ]
    }
   ],
   "execution_count": 24
  },
  {
   "metadata": {
    "ExecuteTime": {
     "end_time": "2025-10-06T19:41:57.144763Z",
     "start_time": "2025-10-06T19:41:56.800759Z"
    }
   },
   "cell_type": "code",
   "source": [
    "flipit_30 = read_data(\"results/test_flipit_30_30_41.yaml\")\n",
    "_ = get_summarized_results_for_all_models(flipit_30, print_results=True)\n",
    "_ = compare_all_models(flipit_30, print_results=True)"
   ],
   "id": "1915db86be028aa3",
   "outputs": [
    {
     "name": "stdout",
     "output_type": "stream",
     "text": [
      "Model                          Mean       Std        N         \n",
      "nn                             476.0147   31.4039    600       \n",
      "gnn                            404.0197   110.6012   600       \n",
      "gnn_transformer                481.8924   37.8399    600       \n",
      "coevosg                        412.2561   98.0294    600       \n",
      "Model                          Compared Model                 Corrected p-value    Original p-value     Significance   \n",
      "nn                             gnn                            0.00000              0.00000              Significantly  \n",
      "nn                             gnn_transformer                1.00000              1.00000              Not significantly\n",
      "nn                             coevosg                        0.00000              0.00000              Significantly  \n",
      "gnn                            nn                             1.00000              1.00000              Not significantly\n",
      "gnn                            gnn_transformer                1.00000              1.00000              Not significantly\n",
      "gnn                            coevosg                        1.00000              1.00000              Not significantly\n",
      "gnn_transformer                nn                             0.00000              0.00000              Significantly  \n",
      "gnn_transformer                gnn                            0.00000              0.00000              Significantly  \n",
      "gnn_transformer                coevosg                        0.00000              0.00000              Significantly  \n",
      "coevosg                        nn                             1.00000              1.00000              Not significantly\n",
      "coevosg                        gnn                            0.00000              0.00000              Significantly  \n",
      "coevosg                        gnn_transformer                1.00000              1.00000              Not significantly\n"
     ]
    }
   ],
   "execution_count": 25
  },
  {
   "metadata": {
    "ExecuteTime": {
     "end_time": "2025-10-06T19:42:17.162414Z",
     "start_time": "2025-10-06T19:42:16.895184Z"
    }
   },
   "cell_type": "code",
   "source": [
    "flipit_60 = read_data(\"results/test_flipit_60_40_41.yaml\")\n",
    "_ = get_summarized_results_for_all_models(flipit_60, print_results=True)\n",
    "_ = compare_all_models(flipit_60, print_results=True)"
   ],
   "id": "8442a682c914c85c",
   "outputs": [
    {
     "name": "stdout",
     "output_type": "stream",
     "text": [
      "Model                          Mean       Std        N         \n",
      "nn                             1046.2489  79.9182    600       \n",
      "gnn                            977.3657   165.8022   600       \n",
      "gnn_transformer                1050.7170  78.7355    600       \n",
      "coevosg                        984.0320   159.5197   600       \n",
      "Model                          Compared Model                 Corrected p-value    Original p-value     Significance   \n",
      "nn                             gnn                            0.00000              0.00000              Significantly  \n",
      "nn                             gnn_transformer                0.00032              0.00032              Significantly  \n",
      "nn                             coevosg                        0.00000              0.00000              Significantly  \n",
      "gnn                            nn                             1.00000              1.00000              Not significantly\n",
      "gnn                            gnn_transformer                1.00000              1.00000              Not significantly\n",
      "gnn                            coevosg                        1.00000              1.00000              Not significantly\n",
      "gnn_transformer                nn                             0.99968              0.99968              Not significantly\n",
      "gnn_transformer                gnn                            0.00000              0.00000              Significantly  \n",
      "gnn_transformer                coevosg                        0.00000              0.00000              Significantly  \n",
      "coevosg                        nn                             1.00000              1.00000              Not significantly\n",
      "coevosg                        gnn                            0.00000              0.00000              Significantly  \n",
      "coevosg                        gnn_transformer                1.00000              1.00000              Not significantly\n"
     ]
    }
   ],
   "execution_count": 26
  },
  {
   "metadata": {},
   "cell_type": "markdown",
   "source": "# Poachers",
   "id": "ecbe639cd771af8c"
  },
  {
   "metadata": {
    "ExecuteTime": {
     "end_time": "2025-10-06T19:43:37.772287Z",
     "start_time": "2025-10-06T19:43:37.497877Z"
    }
   },
   "cell_type": "code",
   "source": [
    "poachers_5 = read_data(\"results/test_poachers_5_15_41.yaml\")\n",
    "_ = get_summarized_results_for_all_models(poachers_5, print_results=True)\n",
    "_ = compare_all_models(poachers_5, print_results=True)"
   ],
   "id": "fe1945b26b673537",
   "outputs": [
    {
     "name": "stdout",
     "output_type": "stream",
     "text": [
      "Model                          Mean       Std        N         \n",
      "nn                             -0.5175    1.3327     600       \n",
      "gnn                            -1.3909    2.4262     600       \n",
      "gnn_transformer                1.0115     0.5474     600       \n",
      "coevosg                        0.4478     1.5515     600       \n",
      "Model                          Compared Model                 Corrected p-value    Original p-value     Significance   \n",
      "nn                             gnn                            0.00000              0.00000              Significantly  \n",
      "nn                             gnn_transformer                1.00000              1.00000              Not significantly\n",
      "nn                             coevosg                        1.00000              1.00000              Not significantly\n",
      "gnn                            nn                             1.00000              1.00000              Not significantly\n",
      "gnn                            gnn_transformer                1.00000              1.00000              Not significantly\n",
      "gnn                            coevosg                        1.00000              1.00000              Not significantly\n",
      "gnn_transformer                nn                             0.00000              0.00000              Significantly  \n",
      "gnn_transformer                gnn                            0.00000              0.00000              Significantly  \n",
      "gnn_transformer                coevosg                        0.32141              0.32141              Not significantly\n",
      "coevosg                        nn                             0.00000              0.00000              Significantly  \n",
      "coevosg                        gnn                            0.00000              0.00000              Significantly  \n",
      "coevosg                        gnn_transformer                0.67859              0.67859              Not significantly\n"
     ]
    }
   ],
   "execution_count": 27
  },
  {
   "metadata": {
    "ExecuteTime": {
     "end_time": "2025-10-06T19:44:49.234129Z",
     "start_time": "2025-10-06T19:44:48.963919Z"
    }
   },
   "cell_type": "code",
   "source": [
    "poachers_10 = read_data(\"results/test_poachers_10_20_41.yaml\")\n",
    "_ = get_summarized_results_for_all_models(poachers_10, print_results=True)\n",
    "_ = compare_all_models(poachers_10, print_results=True)"
   ],
   "id": "39ad8914f2ad08ef",
   "outputs": [
    {
     "name": "stdout",
     "output_type": "stream",
     "text": [
      "Model                          Mean       Std        N         \n",
      "nn                             -0.6250    1.5313     600       \n",
      "gnn                            -1.9624    2.3793     600       \n",
      "gnn_transformer                -1.3111    1.5493     600       \n",
      "coevosg                        -1.1984    1.8661     600       \n",
      "Model                          Compared Model                 Corrected p-value    Original p-value     Significance   \n",
      "nn                             gnn                            0.00000              0.00000              Significantly  \n",
      "nn                             gnn_transformer                0.00000              0.00000              Significantly  \n",
      "nn                             coevosg                        0.00000              0.00000              Significantly  \n",
      "gnn                            nn                             1.00000              1.00000              Not significantly\n",
      "gnn                            gnn_transformer                1.00000              1.00000              Not significantly\n",
      "gnn                            coevosg                        1.00000              1.00000              Not significantly\n",
      "gnn_transformer                nn                             1.00000              1.00000              Not significantly\n",
      "gnn_transformer                gnn                            0.00001              0.00000              Significantly  \n",
      "gnn_transformer                coevosg                        1.00000              0.99558              Not significantly\n",
      "coevosg                        nn                             1.00000              1.00000              Not significantly\n",
      "coevosg                        gnn                            0.00000              0.00000              Significantly  \n",
      "coevosg                        gnn_transformer                0.00885              0.00442              Significantly  \n"
     ]
    }
   ],
   "execution_count": 28
  },
  {
   "metadata": {
    "ExecuteTime": {
     "end_time": "2025-10-06T19:45:37.435739Z",
     "start_time": "2025-10-06T19:45:37.105232Z"
    }
   },
   "cell_type": "code",
   "source": [
    "poachers_20 = read_data(\"results/test_poachers_20_40_41.yaml\")\n",
    "_ = get_summarized_results_for_all_models(poachers_20, print_results=True)\n",
    "_ = compare_all_models(poachers_20, print_results=True)"
   ],
   "id": "be13c5e7e5e1a482",
   "outputs": [
    {
     "name": "stdout",
     "output_type": "stream",
     "text": [
      "Model                          Mean       Std        N         \n",
      "nn                             -2.2267    4.1336     600       \n",
      "gnn                            -2.0411    4.1646     600       \n",
      "gnn_transformer                -2.3006    4.4955     600       \n",
      "coevosg                        -3.8452    5.4275     600       \n",
      "Model                          Compared Model                 Corrected p-value    Original p-value     Significance   \n",
      "nn                             gnn                            0.99383              0.49691              Not significantly\n",
      "nn                             gnn_transformer                0.99383              0.84994              Not significantly\n",
      "nn                             coevosg                        0.00000              0.00000              Significantly  \n",
      "gnn                            nn                             0.50309              0.50309              Not significantly\n",
      "gnn                            gnn_transformer                0.39862              0.19931              Not significantly\n",
      "gnn                            coevosg                        0.00000              0.00000              Significantly  \n",
      "gnn_transformer                nn                             0.30012              0.15006              Not significantly\n",
      "gnn_transformer                gnn                            0.80069              0.80069              Not significantly\n",
      "gnn_transformer                coevosg                        0.00001              0.00000              Significantly  \n",
      "coevosg                        nn                             1.00000              1.00000              Not significantly\n",
      "coevosg                        gnn                            1.00000              1.00000              Not significantly\n",
      "coevosg                        gnn_transformer                1.00000              1.00000              Not significantly\n"
     ]
    }
   ],
   "execution_count": 29
  },
  {
   "metadata": {
    "ExecuteTime": {
     "end_time": "2025-10-06T19:48:12.028430Z",
     "start_time": "2025-10-06T19:48:11.748346Z"
    }
   },
   "cell_type": "code",
   "source": [
    "poachers_30 = read_data(\"results/test_poachers_30_70_41.yaml\")\n",
    "_ = get_summarized_results_for_all_models(poachers_30, print_results=True)\n",
    "_ = compare_all_models(poachers_30, print_results=True)"
   ],
   "id": "443a34595470ef6d",
   "outputs": [
    {
     "name": "stdout",
     "output_type": "stream",
     "text": [
      "Model                          Mean       Std        N         \n",
      "nn                             -3.2520    5.1857     600       \n",
      "gnn                            -4.5637    6.3635     600       \n",
      "gnn_transformer                -4.9719    6.3276     600       \n",
      "coevosg                        -4.9864    6.4590     600       \n",
      "Model                          Compared Model                 Corrected p-value    Original p-value     Significance   \n",
      "nn                             gnn                            0.00003              0.00003              Significantly  \n",
      "nn                             gnn_transformer                0.00000              0.00000              Significantly  \n",
      "nn                             coevosg                        0.00000              0.00000              Significantly  \n",
      "gnn                            nn                             0.99997              0.99997              Not significantly\n",
      "gnn                            gnn_transformer                0.00870              0.00290              Significantly  \n",
      "gnn                            coevosg                        0.02319              0.01159              Significantly  \n",
      "gnn_transformer                nn                             1.00000              1.00000              Not significantly\n",
      "gnn_transformer                gnn                            1.00000              0.99710              Not significantly\n",
      "gnn_transformer                coevosg                        1.00000              0.83868              Not significantly\n",
      "coevosg                        nn                             1.00000              1.00000              Not significantly\n",
      "coevosg                        gnn                            1.00000              0.98841              Not significantly\n",
      "coevosg                        gnn_transformer                0.48395              0.16132              Not significantly\n"
     ]
    }
   ],
   "execution_count": 30
  },
  {
   "metadata": {},
   "cell_type": "code",
   "outputs": [],
   "execution_count": null,
   "source": "",
   "id": "e9ad55550f626567"
  }
 ],
 "metadata": {
  "kernelspec": {
   "display_name": "Python 3",
   "language": "python",
   "name": "python3"
  },
  "language_info": {
   "codemirror_mode": {
    "name": "ipython",
    "version": 2
   },
   "file_extension": ".py",
   "mimetype": "text/x-python",
   "name": "python",
   "nbconvert_exporter": "python",
   "pygments_lexer": "ipython2",
   "version": "2.7.6"
  }
 },
 "nbformat": 4,
 "nbformat_minor": 5
}
