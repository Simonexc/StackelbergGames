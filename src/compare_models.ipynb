{
 "cells": [
  {
   "cell_type": "code",
   "id": "initial_id",
   "metadata": {
    "collapsed": true,
    "ExecuteTime": {
     "end_time": "2025-06-10T07:07:49.001901Z",
     "start_time": "2025-06-10T07:07:46.051684Z"
    }
   },
   "source": [
    "from torchrl.envs.utils import check_env_specs\n",
    "\n",
    "from environments.flipit_geometric import FlipItEnv, FlipItMap\n",
    "\n",
    "NUM_STEPS = 15\n",
    "flipit_map = FlipItMap.load(\"test_map3.pth\", \"cuda:0\")\n",
    "env = FlipItEnv(flipit_map, NUM_STEPS, \"cuda:0\")\n",
    "check_env_specs(env)"
   ],
   "outputs": [
    {
     "name": "stderr",
     "output_type": "stream",
     "text": [
      "2025-06-10 09:07:49,000 [torchrl][INFO] check_env_specs succeeded!\n"
     ]
    }
   ],
   "execution_count": 1
  },
  {
   "metadata": {
    "ExecuteTime": {
     "end_time": "2025-06-10T07:08:39.825908Z",
     "start_time": "2025-06-10T07:08:39.808171Z"
    }
   },
   "cell_type": "code",
   "source": [
    "import yaml\n",
    "\n",
    "from config import TrainingConfig, LossConfig, AgentNNConfig, BackboneConfig, HeadConfig\n",
    "from algorithms.simple_nn import TrainableNNAgentPolicy\n",
    "from algorithms.generic_policy import MultiAgentPolicy\n",
    "from algorithms.generator import AgentGenerator\n",
    "\n",
    "\n",
    "with open(\"configs/run/test_single_training_transformer.yaml\", \"r\") as file:\n",
    "    config = yaml.safe_load(file)\n",
    "training_config_defender = TrainingConfig.from_dict(config, suffix=\"_defender\")\n",
    "loss_config_defender = LossConfig.from_dict(config, suffix=\"_defender\")\n",
    "training_config_attacker = TrainingConfig.from_dict(config, suffix=\"_attacker\")\n",
    "loss_config_attacker = LossConfig.from_dict(config, suffix=\"_attacker\")\n",
    "num_nodes = flipit_map.num_nodes\n",
    "agent_config = AgentNNConfig.from_dict(config)\n",
    "backbone_config = BackboneConfig.from_dict(config, suffix=\"_backbone\")\n",
    "head_config = HeadConfig.from_dict(config, suffix=\"_head\")"
   ],
   "id": "ca859446d2534415",
   "outputs": [],
   "execution_count": 3
  },
  {
   "metadata": {
    "ExecuteTime": {
     "end_time": "2025-06-10T07:10:35.359827Z",
     "start_time": "2025-06-10T07:10:34.970491Z"
    }
   },
   "cell_type": "code",
   "source": [
    "defender_agent_transformer = TrainableNNAgentPolicy(\n",
    "    num_nodes=num_nodes,\n",
    "    total_steps=env.num_steps,\n",
    "    player_type=0,\n",
    "    agent_config=agent_config,\n",
    "    backbone_config=backbone_config,\n",
    "    head_config=head_config,\n",
    "    device=\"cuda:0\",\n",
    "    loss_config=loss_config_defender,\n",
    "    training_config=training_config_defender,\n",
    "    run_name=\"test\",\n",
    ")\n",
    "defender_agent_transformer.eval()\n",
    "defender_agent_transformer.load(\"saved_models/2025-06-08_16:30:57-full-transformer/defender/agent_0.pth\")\n",
    "\n",
    "attacker_agent_transformer = MultiAgentPolicy(\n",
    "    num_nodes=num_nodes,\n",
    "    player_type=1,\n",
    "    device=\"cuda:0\",\n",
    "    embedding_size=32,\n",
    "    run_name=\"test\",\n",
    "    policy_generator=AgentGenerator(\n",
    "        TrainableNNAgentPolicy,\n",
    "        {\n",
    "            \"num_nodes\": num_nodes,\n",
    "            \"total_steps\": env.num_steps,\n",
    "            \"player_type\": 1,\n",
    "            \"device\": \"cuda:0\",\n",
    "            \"loss_config\": loss_config_attacker,\n",
    "            \"training_config\": training_config_attacker,\n",
    "            \"run_name\": \"test\",\n",
    "            \"agent_config\": agent_config,\n",
    "            \"backbone_config\": backbone_config,\n",
    "            \"head_config\": head_config,\n",
    "        }\n",
    "    ),\n",
    ")\n",
    "attacker_agent_transformer.eval()\n",
    "attacker_agent_transformer.load(\"saved_models/2025-06-08_16:30:57-full-transformer/attacker\")"
   ],
   "id": "713899f7311e3d1c",
   "outputs": [],
   "execution_count": 5
  },
  {
   "metadata": {
    "ExecuteTime": {
     "end_time": "2025-06-10T07:12:37.898120Z",
     "start_time": "2025-06-10T07:12:37.623086Z"
    }
   },
   "cell_type": "code",
   "source": [
    "with open(\"configs/run/test_single_training.yaml\", \"r\") as file:\n",
    "    config = yaml.safe_load(file)\n",
    "training_config_defender = TrainingConfig.from_dict(config, suffix=\"_defender\")\n",
    "loss_config_defender = LossConfig.from_dict(config, suffix=\"_defender\")\n",
    "training_config_attacker = TrainingConfig.from_dict(config, suffix=\"_attacker\")\n",
    "loss_config_attacker = LossConfig.from_dict(config, suffix=\"_attacker\")\n",
    "num_nodes = flipit_map.num_nodes\n",
    "agent_config = AgentNNConfig.from_dict(config)\n",
    "backbone_config = BackboneConfig.from_dict(config, suffix=\"_backbone\")\n",
    "head_config = HeadConfig.from_dict(config, suffix=\"_head\")\n",
    "\n",
    "defender_agent_ffn = TrainableNNAgentPolicy(\n",
    "    num_nodes=num_nodes,\n",
    "    total_steps=env.num_steps,\n",
    "    player_type=0,\n",
    "    device=\"cuda:0\",\n",
    "    loss_config=loss_config_defender,\n",
    "    training_config=training_config_defender,\n",
    "    run_name=\"test\",\n",
    "    agent_config=agent_config,\n",
    "    backbone_config=backbone_config,\n",
    "    head_config=head_config,\n",
    ")\n",
    "defender_agent_ffn.eval()\n",
    "defender_agent_ffn.load(\"saved_models/2025-06-08_16:30:57-full-fnn/defender/agent_0.pth\")\n",
    "\n",
    "attacker_agent_ffn = MultiAgentPolicy(\n",
    "    num_nodes=num_nodes,\n",
    "    player_type=1,\n",
    "    device=\"cuda:0\",\n",
    "    embedding_size=32,\n",
    "    run_name=\"test\",\n",
    "    policy_generator=AgentGenerator(\n",
    "        TrainableNNAgentPolicy,\n",
    "        {\n",
    "            \"num_nodes\": num_nodes,\n",
    "            \"total_steps\": env.num_steps,\n",
    "            \"player_type\": 1,\n",
    "            \"device\": \"cuda:0\",\n",
    "            \"loss_config\": loss_config_attacker,\n",
    "            \"training_config\": training_config_attacker,\n",
    "            \"run_name\": \"test\",\n",
    "            \"agent_config\": agent_config,\n",
    "            \"backbone_config\": backbone_config,\n",
    "            \"head_config\": head_config,\n",
    "        }\n",
    "    ),\n",
    ")\n",
    "attacker_agent_ffn.eval()\n",
    "attacker_agent_ffn.load(\"saved_models/2025-06-08_16:30:57-full-fnn/attacker\")"
   ],
   "id": "306dd3defc56edac",
   "outputs": [],
   "execution_count": 7
  },
  {
   "metadata": {
    "ExecuteTime": {
     "end_time": "2025-06-10T07:13:41.293926Z",
     "start_time": "2025-06-10T07:13:13.889321Z"
    }
   },
   "cell_type": "code",
   "source": [
    "from algorithms.coevosg import CoevoSGDefenderAgent, CoevoSGAttackerAgent, CoevoSGConfig\n",
    "\n",
    "defender_agent_coevosg = CoevoSGDefenderAgent(\n",
    "    num_nodes=num_nodes,\n",
    "    player_type=0,\n",
    "    device=\"cpu\",\n",
    "    run_name=\"test\",\n",
    "    config=CoevoSGConfig(),\n",
    "    env=env,\n",
    ")\n",
    "\n",
    "attacker_agent_coevosg = CoevoSGAttackerAgent(\n",
    "    num_nodes=num_nodes,\n",
    "    player_type=1,\n",
    "    device=\"cpu\",\n",
    "    run_name=\"test\",\n",
    "    config=CoevoSGConfig(),\n",
    "    env=env,\n",
    ")\n",
    "\n",
    "defender_agent_coevosg.eval()\n",
    "attacker_agent_coevosg.eval()\n",
    "defender_agent_coevosg.load(\"saved_models/2025-06-09_08:45:52-full-coevosg-/defender/agent_0.pth\")\n",
    "attacker_agent_coevosg.load(\"saved_models/2025-06-09_08:45:52-full-coevosg-/attacker/agent_0.pth\")"
   ],
   "id": "850e799b21b1f64f",
   "outputs": [],
   "execution_count": 8
  },
  {
   "metadata": {
    "ExecuteTime": {
     "end_time": "2025-06-10T07:13:45.398920Z",
     "start_time": "2025-06-10T07:13:45.392169Z"
    }
   },
   "cell_type": "code",
   "source": [
    "from algorithms.generic_policy import RandomAgent, GreedyOracleAgent\n",
    "\n",
    "attacker_agent_random = RandomAgent(num_nodes=num_nodes, embedding_size=32, player_type=1, device=\"cuda:0\", run_name=\"test\")\n",
    "attacker_greedy_oracle = GreedyOracleAgent(\n",
    "    num_nodes=num_nodes, total_steps=env.num_steps, embedding_size=32, player_type=1, device=\"cuda:0\", run_name=\"test\", env_map=flipit_map\n",
    ")"
   ],
   "id": "4b21279040c9c675",
   "outputs": [],
   "execution_count": 9
  },
  {
   "metadata": {
    "ExecuteTime": {
     "end_time": "2025-06-10T07:14:02.293300Z",
     "start_time": "2025-06-10T07:13:54.516111Z"
    }
   },
   "cell_type": "code",
   "source": [
    "from utils import compare_agent_pairs\n",
    "\n",
    "results = compare_agent_pairs(\n",
    "    [\n",
    "        (defender_agent_transformer, attacker_agent_transformer, \"transformer\"),\n",
    "        (defender_agent_ffn, attacker_agent_ffn, \"ffn\"),\n",
    "        (defender_agent_coevosg, attacker_agent_coevosg, \"coevosg\"),\n",
    "    ],\n",
    "    [\n",
    "        (attacker_agent_random, \"random\"),\n",
    "        (attacker_greedy_oracle, \"greedy\"),\n",
    "    ],\n",
    "    env,\n",
    "    print_results=True,\n",
    ")"
   ],
   "id": "740200feb0c2ce37",
   "outputs": [
    {
     "name": "stdout",
     "output_type": "stream",
     "text": [
      "Defender: transformer vs Attacker: transformer => Defender avg reward: 126.8858 (7.2249)\n",
      "Defender: transformer vs Attacker: ffn => Defender avg reward: 130.8115 (4.6874)\n",
      "Defender: transformer vs Attacker: coevosg => Defender avg reward: 140.3997\n",
      "Defender: transformer vs Attacker: random => Defender avg reward: 141.7736\n",
      "Defender: transformer vs Attacker: greedy => Defender avg reward: 133.1033\n",
      "Defender: transformer => Avg reward: 134.5948 (6.3482)\n",
      "Defender: ffn vs Attacker: transformer => Defender avg reward: 120.1021 (7.6354)\n",
      "Defender: ffn vs Attacker: ffn => Defender avg reward: 130.6920 (3.9075)\n",
      "Defender: ffn vs Attacker: coevosg => Defender avg reward: 128.4320\n",
      "Defender: ffn vs Attacker: random => Defender avg reward: 143.0464\n",
      "Defender: ffn vs Attacker: greedy => Defender avg reward: 121.3210\n",
      "Defender: ffn => Avg reward: 128.7187 (9.1955)\n",
      "Defender: coevosg vs Attacker: transformer => Defender avg reward: 119.3308 (3.2711)\n",
      "Defender: coevosg vs Attacker: ffn => Defender avg reward: 122.6632 (5.2755)\n",
      "Defender: coevosg vs Attacker: coevosg => Defender avg reward: 91.4141\n",
      "Defender: coevosg vs Attacker: random => Defender avg reward: 137.6030\n",
      "Defender: coevosg vs Attacker: greedy => Defender avg reward: 101.9315\n",
      "Defender: coevosg => Avg reward: 114.5885 (18.1288)\n"
     ]
    }
   ],
   "execution_count": 10
  },
  {
   "metadata": {
    "ExecuteTime": {
     "end_time": "2025-06-06T23:06:16.221910Z",
     "start_time": "2025-06-06T23:06:16.215149Z"
    }
   },
   "cell_type": "code",
   "source": "results",
   "id": "3ebe439f1eb84e8a",
   "outputs": [
    {
     "data": {
      "text/plain": [
       "{'transformer/transformer/avg': 36.41667556762695,\n",
       " 'transformer/transformer/std': 2.404609203338623,\n",
       " 'transformer/ffn/avg': 36.88743591308594,\n",
       " 'transformer/ffn/std': 2.0703463554382324,\n",
       " 'transformer/coevosg/avg': 35.601593017578125,\n",
       " 'transformer/coevosg/std': None,\n",
       " 'transformer/random/avg': 41.157005310058594,\n",
       " 'transformer/random/std': None,\n",
       " 'transformer/greedy/avg': 36.866844177246094,\n",
       " 'transformer/greedy/std': None,\n",
       " 'transformer/avg': 37.38591384887695,\n",
       " 'transformer/std': 2.1715357303619385,\n",
       " 'ffn/transformer/avg': 36.282413482666016,\n",
       " 'ffn/transformer/std': 2.292834758758545,\n",
       " 'ffn/ffn/avg': 38.51555633544922,\n",
       " 'ffn/ffn/std': 1.8750312328338623,\n",
       " 'ffn/coevosg/avg': 33.64737319946289,\n",
       " 'ffn/coevosg/std': None,\n",
       " 'ffn/random/avg': 39.295902252197266,\n",
       " 'ffn/random/std': None,\n",
       " 'ffn/greedy/avg': 39.965843200683594,\n",
       " 'ffn/greedy/std': None,\n",
       " 'ffn/avg': 37.541419982910156,\n",
       " 'ffn/std': 2.58135986328125,\n",
       " 'coevosg/transformer/avg': 35.037418365478516,\n",
       " 'coevosg/transformer/std': 2.38008975982666,\n",
       " 'coevosg/ffn/avg': 35.53144836425781,\n",
       " 'coevosg/ffn/std': 1.416774868965149,\n",
       " 'coevosg/coevosg/avg': 29.54755210876465,\n",
       " 'coevosg/coevosg/std': None,\n",
       " 'coevosg/random/avg': 39.02821350097656,\n",
       " 'coevosg/random/std': None,\n",
       " 'coevosg/greedy/avg': 30.961591720581055,\n",
       " 'coevosg/greedy/std': None,\n",
       " 'coevosg/avg': 34.021244049072266,\n",
       " 'coevosg/std': 3.7999494075775146}"
      ]
     },
     "execution_count": 8,
     "metadata": {},
     "output_type": "execute_result"
    }
   ],
   "execution_count": 8
  },
  {
   "metadata": {
    "ExecuteTime": {
     "end_time": "2025-06-08T11:13:56.194056Z",
     "start_time": "2025-06-08T11:13:45.626020Z"
    }
   },
   "cell_type": "code",
   "source": [
    "from algorithms.generic_policy import CombinedPolicy\n",
    "\n",
    "combined = CombinedPolicy(defender_agent_transformer, attacker_greedy_oracle)\n",
    "output = combined.evaluate(env, 1000, current_player=0, add_logs=False)"
   ],
   "id": "a85165e36a296a9b",
   "outputs": [],
   "execution_count": 7
  },
  {
   "metadata": {
    "ExecuteTime": {
     "end_time": "2025-06-08T11:14:07.850273Z",
     "start_time": "2025-06-08T11:14:07.837346Z"
    }
   },
   "cell_type": "code",
   "source": "output",
   "id": "a41d659ebfb95258",
   "outputs": [
    {
     "data": {
      "text/plain": [
       "tensor([[ 9.6579, -0.0557],\n",
       "        [ 9.6579, -0.0557],\n",
       "        [ 9.6579, -0.0557],\n",
       "        ...,\n",
       "        [ 9.6579, -0.0557],\n",
       "        [ 9.6579, -0.0557],\n",
       "        [ 9.6579, -0.0557]], device='cuda:0')"
      ]
     },
     "execution_count": 8,
     "metadata": {},
     "output_type": "execute_result"
    }
   ],
   "execution_count": 8
  },
  {
   "metadata": {},
   "cell_type": "code",
   "outputs": [],
   "execution_count": null,
   "source": "",
   "id": "7d17682d395be512"
  }
 ],
 "metadata": {
  "kernelspec": {
   "display_name": "Python 3",
   "language": "python",
   "name": "python3"
  },
  "language_info": {
   "codemirror_mode": {
    "name": "ipython",
    "version": 2
   },
   "file_extension": ".py",
   "mimetype": "text/x-python",
   "name": "python",
   "nbconvert_exporter": "python",
   "pygments_lexer": "ipython2",
   "version": "2.7.6"
  }
 },
 "nbformat": 4,
 "nbformat_minor": 5
}
