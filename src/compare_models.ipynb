{
 "cells": [
  {
   "cell_type": "code",
   "id": "initial_id",
   "metadata": {
    "collapsed": true,
    "ExecuteTime": {
     "end_time": "2025-06-22T20:25:24.616710Z",
     "start_time": "2025-06-22T20:25:21.268357Z"
    }
   },
   "source": [
    "import yaml\n",
    "\n",
    "from torchrl.envs.utils import check_env_specs\n",
    "\n",
    "from config import TrainingConfig, LossConfig, AgentNNConfig, BackboneConfig, HeadConfig, EnvConfig\n",
    "from algorithms.simple_nn import TrainableNNAgentPolicy\n",
    "from algorithms.generic_policy import MultiAgentPolicy\n",
    "from algorithms.generator import AgentGenerator\n",
    "from algorithms.keys_processors import CombinedExtractor\n",
    "\n",
    "with open(\"configs/run/test_single_training_transformer.yaml\", \"r\") as file:\n",
    "    config = yaml.safe_load(file)\n",
    "training_config_defender = TrainingConfig.from_dict(config, suffix=\"_defender\")\n",
    "loss_config_defender = LossConfig.from_dict(config, suffix=\"_defender\")\n",
    "training_config_attacker = TrainingConfig.from_dict(config, suffix=\"_attacker\")\n",
    "loss_config_attacker = LossConfig.from_dict(config, suffix=\"_attacker\")\n",
    "agent_config = AgentNNConfig.from_dict(config)\n",
    "backbone_config = BackboneConfig.from_dict(config, suffix=\"_backbone\")\n",
    "head_config = HeadConfig.from_dict(config, suffix=\"_head\")\n",
    "env_config = EnvConfig.from_dict(config)\n",
    "\n",
    "env_map, env = env_config.create(\"cuda\")\n",
    "check_env_specs(env)"
   ],
   "outputs": [
    {
     "name": "stderr",
     "output_type": "stream",
     "text": [
      "2025-06-22 22:25:24,615 [torchrl][INFO] check_env_specs succeeded!\n"
     ]
    }
   ],
   "execution_count": 1
  },
  {
   "metadata": {
    "ExecuteTime": {
     "end_time": "2025-06-22T20:25:25.975751Z",
     "start_time": "2025-06-22T20:25:25.628233Z"
    }
   },
   "cell_type": "code",
   "source": [
    "defender_extractor = CombinedExtractor(player_type=0, env=env, actions=backbone_config.extractors)\n",
    "defender_agent_transformer = TrainableNNAgentPolicy(\n",
    "    player_type=0,\n",
    "    max_sequence_size=env_config.num_steps + 1,\n",
    "    extractor=defender_extractor,\n",
    "    action_size=env.action_size,\n",
    "    env_type=env_config.env_pair,\n",
    "    agent_config=agent_config,\n",
    "    backbone_config=backbone_config,\n",
    "    head_config=head_config,\n",
    "    device=\"cuda:0\",\n",
    "    loss_config=loss_config_defender,\n",
    "    training_config=training_config_defender,\n",
    "    run_name=\"test\",\n",
    ")\n",
    "defender_agent_transformer.eval()\n",
    "defender_agent_transformer.load(\"saved_models/2025-06-16_10:19:26-full-transformer/defender/agent_0.pth\")\n",
    "\n",
    "attacker_extractor = CombinedExtractor(player_type=1, env=env, actions=backbone_config.extractors)\n",
    "attacker_agent_transformer = MultiAgentPolicy(\n",
    "    action_size=env.action_size,\n",
    "    player_type=1,\n",
    "    device=\"cuda\",\n",
    "    embedding_size=agent_config.embedding_size,\n",
    "    run_name=\"test\",\n",
    "    policy_generator=AgentGenerator(\n",
    "        TrainableNNAgentPolicy,\n",
    "        {\n",
    "            \"extractor\": attacker_extractor,\n",
    "            \"max_sequence_size\": env_config.num_steps + 1,\n",
    "            \"action_size\": env.action_size,\n",
    "            \"env_type\": env_config.env_pair,\n",
    "            \"player_type\": 1,\n",
    "            \"device\": \"cuda\",\n",
    "            \"loss_config\": loss_config_attacker,\n",
    "            \"training_config\": training_config_attacker,\n",
    "            \"run_name\": \"test\",\n",
    "            \"agent_config\": agent_config,\n",
    "            \"backbone_config\": backbone_config,\n",
    "            \"head_config\": head_config,\n",
    "        }\n",
    "    ),\n",
    ")\n",
    "attacker_agent_transformer.eval()\n",
    "attacker_agent_transformer.load(\"saved_models/2025-06-16_10:19:26-full-transformer/attacker\")"
   ],
   "id": "713899f7311e3d1c",
   "outputs": [],
   "execution_count": 2
  },
  {
   "metadata": {
    "ExecuteTime": {
     "end_time": "2025-06-22T20:25:56.180768Z",
     "start_time": "2025-06-22T20:25:55.987995Z"
    }
   },
   "cell_type": "code",
   "source": [
    "with open(\"configs/run/test_single_training.yaml\", \"r\") as file:\n",
    "    config = yaml.safe_load(file)\n",
    "training_config_defender = TrainingConfig.from_dict(config, suffix=\"_defender\")\n",
    "loss_config_defender = LossConfig.from_dict(config, suffix=\"_defender\")\n",
    "training_config_attacker = TrainingConfig.from_dict(config, suffix=\"_attacker\")\n",
    "loss_config_attacker = LossConfig.from_dict(config, suffix=\"_attacker\")\n",
    "agent_config = AgentNNConfig.from_dict(config)\n",
    "backbone_config = BackboneConfig.from_dict(config, suffix=\"_backbone\")\n",
    "head_config = HeadConfig.from_dict(config, suffix=\"_head\")\n",
    "\n",
    "defender_extractor_ffn = CombinedExtractor(player_type=0, env=env, actions=backbone_config.extractors)\n",
    "defender_agent_ffn = TrainableNNAgentPolicy(\n",
    "    player_type=0,\n",
    "    max_sequence_size=env_config.num_steps + 1,\n",
    "    extractor=defender_extractor_ffn,\n",
    "    action_size=env.action_size,\n",
    "    env_type=env_config.env_pair,\n",
    "    device=\"cuda:0\",\n",
    "    loss_config=loss_config_defender,\n",
    "    training_config=training_config_defender,\n",
    "    run_name=\"test\",\n",
    "    agent_config=agent_config,\n",
    "    backbone_config=backbone_config,\n",
    "    head_config=head_config,\n",
    ")\n",
    "defender_agent_ffn.eval()\n",
    "defender_agent_ffn.load(\"saved_models/2025-06-16_10:19:26-full-fnn/defender/agent_0.pth\")\n",
    "\n",
    "attacker_extractor_ffn = CombinedExtractor(player_type=1, env=env, actions=backbone_config.extractors)\n",
    "attacker_agent_ffn = MultiAgentPolicy(\n",
    "    action_size=env.action_size,\n",
    "    player_type=1,\n",
    "    device=\"cuda:0\",\n",
    "    embedding_size=agent_config.embedding_size,\n",
    "    run_name=\"test\",\n",
    "    policy_generator=AgentGenerator(\n",
    "        TrainableNNAgentPolicy,\n",
    "        {\n",
    "            \"extractor\": attacker_extractor_ffn,\n",
    "            \"max_sequence_size\": env_config.num_steps + 1,\n",
    "            \"action_size\": env.action_size,\n",
    "            \"env_type\": env_config.env_pair,\n",
    "            \"player_type\": 1,\n",
    "            \"device\": \"cuda:0\",\n",
    "            \"loss_config\": loss_config_attacker,\n",
    "            \"training_config\": training_config_attacker,\n",
    "            \"run_name\": \"test\",\n",
    "            \"agent_config\": agent_config,\n",
    "            \"backbone_config\": backbone_config,\n",
    "            \"head_config\": head_config,\n",
    "        }\n",
    "    ),\n",
    ")\n",
    "attacker_agent_ffn.eval()\n",
    "attacker_agent_ffn.load(\"saved_models/2025-06-16_10:19:26-full-fnn/attacker\")"
   ],
   "id": "306dd3defc56edac",
   "outputs": [],
   "execution_count": 3
  },
  {
   "metadata": {
    "ExecuteTime": {
     "end_time": "2025-06-22T20:28:03.593833Z",
     "start_time": "2025-06-22T20:27:05.690232Z"
    }
   },
   "cell_type": "code",
   "source": [
    "from algorithms.coevosg import CoevoSGDefenderAgent, CoevoSGAttackerAgent, CoevoSGConfig\n",
    "\n",
    "defender_agent_coevosg = CoevoSGDefenderAgent(\n",
    "    device=\"cpu\",\n",
    "    run_name=\"test\",\n",
    "    config=CoevoSGConfig(),\n",
    "    env=env,\n",
    ")\n",
    "\n",
    "attacker_agent_coevosg = CoevoSGAttackerAgent(\n",
    "    device=\"cpu\",\n",
    "    run_name=\"test\",\n",
    "    config=CoevoSGConfig(),\n",
    "    env=env,\n",
    ")\n",
    "\n",
    "defender_agent_coevosg.eval()\n",
    "attacker_agent_coevosg.eval()\n",
    "defender_agent_coevosg.load(\"saved_models/2025-06-11_10:38:51-full-coevosg-/defender/agent_0.pth\")\n",
    "attacker_agent_coevosg.load(\"saved_models/2025-06-11_10:38:51-full-coevosg-/attacker/agent_0.pth\")"
   ],
   "id": "850e799b21b1f64f",
   "outputs": [],
   "execution_count": 4
  },
  {
   "metadata": {
    "ExecuteTime": {
     "end_time": "2025-06-22T20:28:12.265304Z",
     "start_time": "2025-06-22T20:28:12.261360Z"
    }
   },
   "cell_type": "code",
   "source": [
    "from algorithms.generic_policy import RandomAgent, GreedyOracleAgent\n",
    "\n",
    "attacker_agent_random = RandomAgent(action_size=env.action_size, embedding_size=agent_config.embedding_size, player_type=1, device=\"cuda:0\", run_name=\"test\")\n",
    "attacker_greedy_oracle = GreedyOracleAgent(\n",
    "    action_size=env.action_size, total_steps=env.num_steps, embedding_size=agent_config.embedding_size, player_type=1, device=\"cuda:0\", run_name=\"test\", env_map=env_map\n",
    ")"
   ],
   "id": "4b21279040c9c675",
   "outputs": [],
   "execution_count": 5
  },
  {
   "metadata": {
    "ExecuteTime": {
     "end_time": "2025-06-22T20:28:25.624442Z",
     "start_time": "2025-06-22T20:28:15.008795Z"
    }
   },
   "cell_type": "code",
   "source": [
    "from utils import compare_agent_pairs\n",
    "\n",
    "results = compare_agent_pairs(\n",
    "    [\n",
    "        (defender_agent_transformer, attacker_agent_transformer, \"transformer\"),\n",
    "        (defender_agent_ffn, attacker_agent_ffn, \"ffn\"),\n",
    "        (defender_agent_coevosg, attacker_agent_coevosg, \"coevosg\"),\n",
    "    ],\n",
    "    [\n",
    "        (attacker_agent_random, \"random\"),\n",
    "        (attacker_greedy_oracle, \"greedy\"),\n",
    "    ],\n",
    "    env,\n",
    "    print_results=True,\n",
    ")"
   ],
   "id": "740200feb0c2ce37",
   "outputs": [
    {
     "name": "stdout",
     "output_type": "stream",
     "text": [
      "Defender: transformer vs Attacker: transformer => Defender avg reward: 371.7089 (18.7252)\n",
      "Defender: transformer vs Attacker: ffn => Defender avg reward: 375.0861 (5.5061)\n",
      "Defender: transformer vs Attacker: coevosg => Defender avg reward: 346.2115\n",
      "Defender: transformer vs Attacker: random => Defender avg reward: 383.2437\n",
      "Defender: transformer vs Attacker: greedy => Defender avg reward: 331.6626\n",
      "Defender: transformer => Avg reward: 361.5826 (21.7116)\n",
      "Defender: ffn vs Attacker: transformer => Defender avg reward: 370.4366 (18.7444)\n",
      "Defender: ffn vs Attacker: ffn => Defender avg reward: 381.5039 (6.3083)\n",
      "Defender: ffn vs Attacker: coevosg => Defender avg reward: 322.1329\n",
      "Defender: ffn vs Attacker: random => Defender avg reward: 384.2910\n",
      "Defender: ffn vs Attacker: greedy => Defender avg reward: 371.1407\n",
      "Defender: ffn => Avg reward: 365.9010 (25.2255)\n",
      "Defender: coevosg vs Attacker: transformer => Defender avg reward: 357.4727 (9.7810)\n",
      "Defender: coevosg vs Attacker: ffn => Defender avg reward: 372.0586 (4.7110)\n",
      "Defender: coevosg vs Attacker: coevosg => Defender avg reward: 267.7213\n",
      "Defender: coevosg vs Attacker: random => Defender avg reward: 393.0653\n",
      "Defender: coevosg vs Attacker: greedy => Defender avg reward: 277.2856\n",
      "Defender: coevosg => Avg reward: 333.5207 (57.2197)\n"
     ]
    }
   ],
   "execution_count": 6
  },
  {
   "metadata": {},
   "cell_type": "code",
   "source": "results",
   "id": "3ebe439f1eb84e8a",
   "outputs": [],
   "execution_count": null
  },
  {
   "metadata": {},
   "cell_type": "code",
   "source": [
    "from algorithms.generic_policy import CombinedPolicy\n",
    "\n",
    "combined = CombinedPolicy(defender_agent_transformer, attacker_greedy_oracle)\n",
    "output = combined.evaluate(env, 1000, current_player=0, add_logs=False)"
   ],
   "id": "a85165e36a296a9b",
   "outputs": [],
   "execution_count": null
  },
  {
   "metadata": {},
   "cell_type": "code",
   "source": "output",
   "id": "a41d659ebfb95258",
   "outputs": [],
   "execution_count": null
  },
  {
   "metadata": {},
   "cell_type": "code",
   "source": "",
   "id": "7d17682d395be512",
   "outputs": [],
   "execution_count": null
  }
 ],
 "metadata": {
  "kernelspec": {
   "display_name": "Python 3",
   "language": "python",
   "name": "python3"
  },
  "language_info": {
   "codemirror_mode": {
    "name": "ipython",
    "version": 2
   },
   "file_extension": ".py",
   "mimetype": "text/x-python",
   "name": "python",
   "nbconvert_exporter": "python",
   "pygments_lexer": "ipython2",
   "version": "2.7.6"
  }
 },
 "nbformat": 4,
 "nbformat_minor": 5
}
