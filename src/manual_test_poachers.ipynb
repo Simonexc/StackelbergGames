{
 "cells": [
  {
   "metadata": {
    "ExecuteTime": {
     "end_time": "2025-07-27T19:16:31.893847Z",
     "start_time": "2025-07-27T19:16:27.649460Z"
    }
   },
   "cell_type": "code",
   "source": [
    "%matplotlib notebook\n",
    "from config import Player, EnvConfig\n",
    "from environments.flipit_utils import Action, ActionTargetPair, PlayerTargetPair\n",
    "from environments.poachers_renderer import Renderer\n",
    "from environments.poachers import PoachersEnv, PoachersMap\n",
    "import torch\n",
    "from torchrl.envs.utils import check_env_specs\n",
    "from torchrl.envs import Compose, TransformedEnv, RewardSum, Stack\n",
    "\n",
    "NUM_NODES = 20\n",
    "NUM_STEPS = 40\n",
    "SEED = 41\n",
    "\n",
    "config = EnvConfig(\n",
    "    num_nodes=NUM_NODES,\n",
    "    num_steps=NUM_STEPS,\n",
    "    seed=SEED,\n",
    "    env_name=\"poachers\",\n",
    ")"
   ],
   "id": "4250c661131d0c17",
   "outputs": [],
   "execution_count": 1
  },
  {
   "metadata": {
    "ExecuteTime": {
     "end_time": "2025-07-27T19:16:31.900574Z",
     "start_time": "2025-07-27T19:16:31.894806Z"
    }
   },
   "cell_type": "code",
   "source": "env_map = PoachersMap(config, \"cpu\")",
   "id": "922df165b7a6eead",
   "outputs": [],
   "execution_count": 2
  },
  {
   "metadata": {
    "ExecuteTime": {
     "end_time": "2025-07-27T19:16:32.689323Z",
     "start_time": "2025-07-27T19:16:31.901993Z"
    }
   },
   "cell_type": "code",
   "source": [
    "env = TransformedEnv(\n",
    "    PoachersEnv(config, env_map, \"cpu\"),\n",
    "    Compose(\n",
    "        RewardSum(),\n",
    "    )\n",
    ")\n",
    "check_env_specs(env)\n",
    "out = env.reset()"
   ],
   "id": "9032c089ecb33506",
   "outputs": [
    {
     "ename": "ValueError",
     "evalue": "Invalid action detected: tensor([0, 3], dtype=torch.int32)",
     "output_type": "error",
     "traceback": [
      "\u001B[31m---------------------------------------------------------------------------\u001B[39m",
      "\u001B[31mValueError\u001B[39m                                Traceback (most recent call last)",
      "\u001B[36mCell\u001B[39m\u001B[36m \u001B[39m\u001B[32mIn[3]\u001B[39m\u001B[32m, line 7\u001B[39m\n\u001B[32m      1\u001B[39m env = TransformedEnv(\n\u001B[32m      2\u001B[39m     PoachersEnv(config, env_map, \u001B[33m\"\u001B[39m\u001B[33mcpu\u001B[39m\u001B[33m\"\u001B[39m),\n\u001B[32m      3\u001B[39m     Compose(\n\u001B[32m      4\u001B[39m         RewardSum(),\n\u001B[32m      5\u001B[39m     )\n\u001B[32m      6\u001B[39m )\n\u001B[32m----> \u001B[39m\u001B[32m7\u001B[39m \u001B[43mcheck_env_specs\u001B[49m\u001B[43m(\u001B[49m\u001B[43menv\u001B[49m\u001B[43m)\u001B[49m\n\u001B[32m      8\u001B[39m out = env.reset()\n",
      "\u001B[36mFile \u001B[39m\u001B[32m~/Documents/GitHub/StackelbergGames/.venv/lib/python3.13/site-packages/torchrl/envs/utils.py:757\u001B[39m, in \u001B[36mcheck_env_specs\u001B[39m\u001B[34m(env, return_contiguous, check_dtype, seed, tensordict, break_when_any_done)\u001B[39m\n\u001B[32m    755\u001B[39m     fake_tensordict = fake_tensordict.expand(shape)\n\u001B[32m    756\u001B[39m     tensordict = tensordict.expand(shape)\n\u001B[32m--> \u001B[39m\u001B[32m757\u001B[39m real_tensordict = \u001B[43menv\u001B[49m\u001B[43m.\u001B[49m\u001B[43mrollout\u001B[49m\u001B[43m(\u001B[49m\n\u001B[32m    758\u001B[39m \u001B[43m    \u001B[49m\u001B[32;43m3\u001B[39;49m\u001B[43m,\u001B[49m\n\u001B[32m    759\u001B[39m \u001B[43m    \u001B[49m\u001B[43mreturn_contiguous\u001B[49m\u001B[43m=\u001B[49m\u001B[43mreturn_contiguous\u001B[49m\u001B[43m,\u001B[49m\n\u001B[32m    760\u001B[39m \u001B[43m    \u001B[49m\u001B[43mtensordict\u001B[49m\u001B[43m=\u001B[49m\u001B[43mtensordict\u001B[49m\u001B[43m,\u001B[49m\n\u001B[32m    761\u001B[39m \u001B[43m    \u001B[49m\u001B[43mauto_reset\u001B[49m\u001B[43m=\u001B[49m\u001B[43mtensordict\u001B[49m\u001B[43m \u001B[49m\u001B[38;5;129;43;01mis\u001B[39;49;00m\u001B[43m \u001B[49m\u001B[38;5;28;43;01mNone\u001B[39;49;00m\u001B[43m,\u001B[49m\n\u001B[32m    762\u001B[39m \u001B[43m    \u001B[49m\u001B[43mbreak_when_any_done\u001B[49m\u001B[43m=\u001B[49m\u001B[43mbreak_when_any_done\u001B[49m\u001B[43m,\u001B[49m\n\u001B[32m    763\u001B[39m \u001B[43m\u001B[49m\u001B[43m)\u001B[49m\n\u001B[32m    765\u001B[39m \u001B[38;5;28;01mif\u001B[39;00m return_contiguous:\n\u001B[32m    766\u001B[39m     fake_tensordict = fake_tensordict.unsqueeze(real_tensordict.batch_dims - \u001B[32m1\u001B[39m)\n",
      "\u001B[36mFile \u001B[39m\u001B[32m~/Documents/GitHub/StackelbergGames/.venv/lib/python3.13/site-packages/torchrl/envs/common.py:3294\u001B[39m, in \u001B[36mEnvBase.rollout\u001B[39m\u001B[34m(self, max_steps, policy, callback, auto_reset, auto_cast_to_device, break_when_any_done, break_when_all_done, return_contiguous, tensordict, set_truncated, out, trust_policy)\u001B[39m\n\u001B[32m   3284\u001B[39m kwargs = {\n\u001B[32m   3285\u001B[39m     \u001B[33m\"\u001B[39m\u001B[33mtensordict\u001B[39m\u001B[33m\"\u001B[39m: tensordict,\n\u001B[32m   3286\u001B[39m     \u001B[33m\"\u001B[39m\u001B[33mauto_cast_to_device\u001B[39m\u001B[33m\"\u001B[39m: auto_cast_to_device,\n\u001B[32m   (...)\u001B[39m\u001B[32m   3291\u001B[39m     \u001B[33m\"\u001B[39m\u001B[33mcallback\u001B[39m\u001B[33m\"\u001B[39m: callback,\n\u001B[32m   3292\u001B[39m }\n\u001B[32m   3293\u001B[39m \u001B[38;5;28;01mif\u001B[39;00m break_when_any_done \u001B[38;5;129;01mor\u001B[39;00m break_when_all_done:\n\u001B[32m-> \u001B[39m\u001B[32m3294\u001B[39m     tensordicts = \u001B[38;5;28;43mself\u001B[39;49m\u001B[43m.\u001B[49m\u001B[43m_rollout_stop_early\u001B[49m\u001B[43m(\u001B[49m\n\u001B[32m   3295\u001B[39m \u001B[43m        \u001B[49m\u001B[43mbreak_when_all_done\u001B[49m\u001B[43m=\u001B[49m\u001B[43mbreak_when_all_done\u001B[49m\u001B[43m,\u001B[49m\n\u001B[32m   3296\u001B[39m \u001B[43m        \u001B[49m\u001B[43mbreak_when_any_done\u001B[49m\u001B[43m=\u001B[49m\u001B[43mbreak_when_any_done\u001B[49m\u001B[43m,\u001B[49m\n\u001B[32m   3297\u001B[39m \u001B[43m        \u001B[49m\u001B[43m*\u001B[49m\u001B[43m*\u001B[49m\u001B[43mkwargs\u001B[49m\u001B[43m,\u001B[49m\n\u001B[32m   3298\u001B[39m \u001B[43m    \u001B[49m\u001B[43m)\u001B[49m\n\u001B[32m   3299\u001B[39m \u001B[38;5;28;01melse\u001B[39;00m:\n\u001B[32m   3300\u001B[39m     tensordicts = \u001B[38;5;28mself\u001B[39m._rollout_nonstop(**kwargs)\n",
      "\u001B[36mFile \u001B[39m\u001B[32m~/Documents/GitHub/StackelbergGames/.venv/lib/python3.13/site-packages/torchrl/envs/common.py:3435\u001B[39m, in \u001B[36mEnvBase._rollout_stop_early\u001B[39m\u001B[34m(self, break_when_any_done, break_when_all_done, tensordict, auto_cast_to_device, max_steps, policy, policy_device, env_device, callback)\u001B[39m\n\u001B[32m   3433\u001B[39m     \u001B[38;5;28;01melse\u001B[39;00m:\n\u001B[32m   3434\u001B[39m         tensordict.clear_device_()\n\u001B[32m-> \u001B[39m\u001B[32m3435\u001B[39m tensordict = \u001B[38;5;28;43mself\u001B[39;49m\u001B[43m.\u001B[49m\u001B[43mstep\u001B[49m\u001B[43m(\u001B[49m\u001B[43mtensordict\u001B[49m\u001B[43m)\u001B[49m\n\u001B[32m   3436\u001B[39m td_append = tensordict.copy()\n\u001B[32m   3437\u001B[39m \u001B[38;5;28;01mif\u001B[39;00m break_when_all_done:\n",
      "\u001B[36mFile \u001B[39m\u001B[32m~/Documents/GitHub/StackelbergGames/.venv/lib/python3.13/site-packages/torchrl/envs/common.py:2031\u001B[39m, in \u001B[36mEnvBase.step\u001B[39m\u001B[34m(self, tensordict)\u001B[39m\n\u001B[32m   2028\u001B[39m next_preset = tensordict.get(\u001B[33m\"\u001B[39m\u001B[33mnext\u001B[39m\u001B[33m\"\u001B[39m, \u001B[38;5;28;01mNone\u001B[39;00m)\n\u001B[32m   2030\u001B[39m \u001B[38;5;28;01mif\u001B[39;00m next_tensordict \u001B[38;5;129;01mis\u001B[39;00m \u001B[38;5;28;01mNone\u001B[39;00m:\n\u001B[32m-> \u001B[39m\u001B[32m2031\u001B[39m     next_tensordict = \u001B[38;5;28;43mself\u001B[39;49m\u001B[43m.\u001B[49m\u001B[43m_step\u001B[49m\u001B[43m(\u001B[49m\u001B[43mtensordict\u001B[49m\u001B[43m)\u001B[49m\n\u001B[32m   2032\u001B[39m     next_tensordict = \u001B[38;5;28mself\u001B[39m._step_proc_data(next_tensordict)\n\u001B[32m   2033\u001B[39m \u001B[38;5;28;01mif\u001B[39;00m next_preset \u001B[38;5;129;01mis\u001B[39;00m \u001B[38;5;129;01mnot\u001B[39;00m \u001B[38;5;28;01mNone\u001B[39;00m:\n\u001B[32m   2034\u001B[39m     \u001B[38;5;66;03m# tensordict could already have a \"next\" key\u001B[39;00m\n\u001B[32m   2035\u001B[39m     \u001B[38;5;66;03m# this could be done more efficiently by not excluding but just passing\u001B[39;00m\n\u001B[32m   2036\u001B[39m     \u001B[38;5;66;03m# the necessary keys\u001B[39;00m\n",
      "\u001B[36mFile \u001B[39m\u001B[32m~/Documents/GitHub/StackelbergGames/.venv/lib/python3.13/site-packages/torchrl/envs/transforms/transforms.py:1129\u001B[39m, in \u001B[36mTransformedEnv._step\u001B[39m\u001B[34m(self, tensordict)\u001B[39m\n\u001B[32m   1126\u001B[39m         tensordict_batch_size = \u001B[38;5;28mself\u001B[39m.batch_size\n\u001B[32m   1128\u001B[39m \u001B[38;5;28;01mif\u001B[39;00m next_tensordict \u001B[38;5;129;01mis\u001B[39;00m \u001B[38;5;28;01mNone\u001B[39;00m:\n\u001B[32m-> \u001B[39m\u001B[32m1129\u001B[39m     next_tensordict = \u001B[38;5;28;43mself\u001B[39;49m\u001B[43m.\u001B[49m\u001B[43mbase_env\u001B[49m\u001B[43m.\u001B[49m\u001B[43m_step\u001B[49m\u001B[43m(\u001B[49m\u001B[43mtensordict_in\u001B[49m\u001B[43m)\u001B[49m\n\u001B[32m   1130\u001B[39m     \u001B[38;5;28;01mif\u001B[39;00m next_preset \u001B[38;5;129;01mis\u001B[39;00m \u001B[38;5;129;01mnot\u001B[39;00m \u001B[38;5;28;01mNone\u001B[39;00m:\n\u001B[32m   1131\u001B[39m         \u001B[38;5;66;03m# tensordict could already have a \"next\" key\u001B[39;00m\n\u001B[32m   1132\u001B[39m         \u001B[38;5;66;03m# this could be done more efficiently by not excluding but just passing\u001B[39;00m\n\u001B[32m   1133\u001B[39m         \u001B[38;5;66;03m# the necessary keys\u001B[39;00m\n\u001B[32m   1134\u001B[39m         next_tensordict.update(\n\u001B[32m   1135\u001B[39m             next_preset.exclude(*next_tensordict.keys(\u001B[38;5;28;01mTrue\u001B[39;00m, \u001B[38;5;28;01mTrue\u001B[39;00m))\n\u001B[32m   1136\u001B[39m         )\n",
      "\u001B[36mFile \u001B[39m\u001B[32m~/Documents/GitHub/StackelbergGames/src/environments/base_env.py:271\u001B[39m, in \u001B[36mEnvironmentBase._step\u001B[39m\u001B[34m(self, tensordict)\u001B[39m\n\u001B[32m    268\u001B[39m is_truncated = torch.zeros((\u001B[32m1\u001B[39m,), dtype=torch.bool, device=\u001B[38;5;28mself\u001B[39m.device)\n\u001B[32m    269\u001B[39m is_terminated = torch.zeros((\u001B[32m1\u001B[39m,), dtype=torch.bool, device=\u001B[38;5;28mself\u001B[39m.device)\n\u001B[32m--> \u001B[39m\u001B[32m271\u001B[39m step_output = \u001B[38;5;28;43mself\u001B[39;49m\u001B[43m.\u001B[49m\u001B[43m_impl_step\u001B[49m\u001B[43m(\u001B[49m\u001B[43mtensordict\u001B[49m\u001B[43m,\u001B[49m\u001B[43m \u001B[49m\u001B[43mrewards\u001B[49m\u001B[43m,\u001B[49m\u001B[43m \u001B[49m\u001B[43mis_truncated\u001B[49m\u001B[43m,\u001B[49m\u001B[43m \u001B[49m\u001B[43mis_terminated\u001B[49m\u001B[43m)\u001B[49m\n\u001B[32m    273\u001B[39m \u001B[38;5;28mself\u001B[39m.step_count += \u001B[32m1\u001B[39m\n\u001B[32m    274\u001B[39m \u001B[38;5;28;01mif\u001B[39;00m \u001B[38;5;28mself\u001B[39m.step_count >= \u001B[38;5;28mself\u001B[39m.num_steps:\n",
      "\u001B[36mFile \u001B[39m\u001B[32m~/Documents/GitHub/StackelbergGames/src/environments/poachers.py:262\u001B[39m, in \u001B[36mPoachersEnv._impl_step\u001B[39m\u001B[34m(self, tensordict, rewards, is_truncated, is_terminated)\u001B[39m\n\u001B[32m    260\u001B[39m     \u001B[38;5;28mself\u001B[39m.position[move_mask] = new_positions\n\u001B[32m    261\u001B[39m     \u001B[38;5;28;01mif\u001B[39;00m (\u001B[38;5;28mself\u001B[39m.position == -\u001B[32m1\u001B[39m).any():\n\u001B[32m--> \u001B[39m\u001B[32m262\u001B[39m         \u001B[38;5;28;01mraise\u001B[39;00m \u001B[38;5;167;01mValueError\u001B[39;00m(\u001B[33mf\u001B[39m\u001B[33m\"\u001B[39m\u001B[33mInvalid action detected: \u001B[39m\u001B[38;5;132;01m{\u001B[39;00mactions\u001B[38;5;132;01m}\u001B[39;00m\u001B[33m\"\u001B[39m)\n\u001B[32m    264\u001B[39m     rewards[move_mask] += \u001B[38;5;28mself\u001B[39m.map.move_cost\n\u001B[32m    266\u001B[39m \u001B[38;5;66;03m# Check if capture (rule 6)\u001B[39;00m\n",
      "\u001B[31mValueError\u001B[39m: Invalid action detected: tensor([0, 3], dtype=torch.int32)"
     ]
    }
   ],
   "execution_count": 3
  },
  {
   "metadata": {
    "ExecuteTime": {
     "end_time": "2025-07-13T20:16:10.692556Z",
     "start_time": "2025-07-13T20:16:09.837807Z"
    }
   },
   "cell_type": "code",
   "source": [
    "renderer = Renderer(env, SEED)\n",
    "renderer.render()"
   ],
   "id": "90f2445093bdb356",
   "outputs": [
    {
     "data": {
      "text/plain": [
       "<IPython.core.display.Javascript object>"
      ],
      "application/javascript": "/* Put everything inside the global mpl namespace */\n/* global mpl */\nwindow.mpl = {};\n\nmpl.get_websocket_type = function () {\n    if (typeof WebSocket !== 'undefined') {\n        return WebSocket;\n    } else if (typeof MozWebSocket !== 'undefined') {\n        return MozWebSocket;\n    } else {\n        alert(\n            'Your browser does not have WebSocket support. ' +\n                'Please try Chrome, Safari or Firefox ≥ 6. ' +\n                'Firefox 4 and 5 are also supported but you ' +\n                'have to enable WebSockets in about:config.'\n        );\n    }\n};\n\nmpl.figure = function (figure_id, websocket, ondownload, parent_element) {\n    this.id = figure_id;\n\n    this.ws = websocket;\n\n    this.supports_binary = this.ws.binaryType !== undefined;\n\n    if (!this.supports_binary) {\n        var warnings = document.getElementById('mpl-warnings');\n        if (warnings) {\n            warnings.style.display = 'block';\n            warnings.textContent =\n                'This browser does not support binary websocket messages. ' +\n                'Performance may be slow.';\n        }\n    }\n\n    this.imageObj = new Image();\n\n    this.context = undefined;\n    this.message = undefined;\n    this.canvas = undefined;\n    this.rubberband_canvas = undefined;\n    this.rubberband_context = undefined;\n    this.format_dropdown = undefined;\n\n    this.image_mode = 'full';\n\n    this.root = document.createElement('div');\n    this.root.setAttribute('style', 'display: inline-block');\n    this._root_extra_style(this.root);\n\n    parent_element.appendChild(this.root);\n\n    this._init_header(this);\n    this._init_canvas(this);\n    this._init_toolbar(this);\n\n    var fig = this;\n\n    this.waiting = false;\n\n    this.ws.onopen = function () {\n        fig.send_message('supports_binary', { value: fig.supports_binary });\n        fig.send_message('send_image_mode', {});\n        if (fig.ratio !== 1) {\n            fig.send_message('set_device_pixel_ratio', {\n                device_pixel_ratio: fig.ratio,\n            });\n        }\n        fig.send_message('refresh', {});\n    };\n\n    this.imageObj.onload = function () {\n        if (fig.image_mode === 'full') {\n            // Full images could contain transparency (where diff images\n            // almost always do), so we need to clear the canvas so that\n            // there is no ghosting.\n            fig.context.clearRect(0, 0, fig.canvas.width, fig.canvas.height);\n        }\n        fig.context.drawImage(fig.imageObj, 0, 0);\n    };\n\n    this.imageObj.onunload = function () {\n        fig.ws.close();\n    };\n\n    this.ws.onmessage = this._make_on_message_function(this);\n\n    this.ondownload = ondownload;\n};\n\nmpl.figure.prototype._init_header = function () {\n    var titlebar = document.createElement('div');\n    titlebar.classList =\n        'ui-dialog-titlebar ui-widget-header ui-corner-all ui-helper-clearfix';\n    var titletext = document.createElement('div');\n    titletext.classList = 'ui-dialog-title';\n    titletext.setAttribute(\n        'style',\n        'width: 100%; text-align: center; padding: 3px;'\n    );\n    titlebar.appendChild(titletext);\n    this.root.appendChild(titlebar);\n    this.header = titletext;\n};\n\nmpl.figure.prototype._canvas_extra_style = function (_canvas_div) {};\n\nmpl.figure.prototype._root_extra_style = function (_canvas_div) {};\n\nmpl.figure.prototype._init_canvas = function () {\n    var fig = this;\n\n    var canvas_div = (this.canvas_div = document.createElement('div'));\n    canvas_div.setAttribute('tabindex', '0');\n    canvas_div.setAttribute(\n        'style',\n        'border: 1px solid #ddd;' +\n            'box-sizing: content-box;' +\n            'clear: both;' +\n            'min-height: 1px;' +\n            'min-width: 1px;' +\n            'outline: 0;' +\n            'overflow: hidden;' +\n            'position: relative;' +\n            'resize: both;' +\n            'z-index: 2;'\n    );\n\n    function on_keyboard_event_closure(name) {\n        return function (event) {\n            return fig.key_event(event, name);\n        };\n    }\n\n    canvas_div.addEventListener(\n        'keydown',\n        on_keyboard_event_closure('key_press')\n    );\n    canvas_div.addEventListener(\n        'keyup',\n        on_keyboard_event_closure('key_release')\n    );\n\n    this._canvas_extra_style(canvas_div);\n    this.root.appendChild(canvas_div);\n\n    var canvas = (this.canvas = document.createElement('canvas'));\n    canvas.classList.add('mpl-canvas');\n    canvas.setAttribute(\n        'style',\n        'box-sizing: content-box;' +\n            'pointer-events: none;' +\n            'position: relative;' +\n            'z-index: 0;'\n    );\n\n    this.context = canvas.getContext('2d');\n\n    var backingStore =\n        this.context.backingStorePixelRatio ||\n        this.context.webkitBackingStorePixelRatio ||\n        this.context.mozBackingStorePixelRatio ||\n        this.context.msBackingStorePixelRatio ||\n        this.context.oBackingStorePixelRatio ||\n        this.context.backingStorePixelRatio ||\n        1;\n\n    this.ratio = (window.devicePixelRatio || 1) / backingStore;\n\n    var rubberband_canvas = (this.rubberband_canvas = document.createElement(\n        'canvas'\n    ));\n    rubberband_canvas.setAttribute(\n        'style',\n        'box-sizing: content-box;' +\n            'left: 0;' +\n            'pointer-events: none;' +\n            'position: absolute;' +\n            'top: 0;' +\n            'z-index: 1;'\n    );\n\n    // Apply a ponyfill if ResizeObserver is not implemented by browser.\n    if (this.ResizeObserver === undefined) {\n        if (window.ResizeObserver !== undefined) {\n            this.ResizeObserver = window.ResizeObserver;\n        } else {\n            var obs = _JSXTOOLS_RESIZE_OBSERVER({});\n            this.ResizeObserver = obs.ResizeObserver;\n        }\n    }\n\n    this.resizeObserverInstance = new this.ResizeObserver(function (entries) {\n        // There's no need to resize if the WebSocket is not connected:\n        // - If it is still connecting, then we will get an initial resize from\n        //   Python once it connects.\n        // - If it has disconnected, then resizing will clear the canvas and\n        //   never get anything back to refill it, so better to not resize and\n        //   keep something visible.\n        if (fig.ws.readyState != 1) {\n            return;\n        }\n        var nentries = entries.length;\n        for (var i = 0; i < nentries; i++) {\n            var entry = entries[i];\n            var width, height;\n            if (entry.contentBoxSize) {\n                if (entry.contentBoxSize instanceof Array) {\n                    // Chrome 84 implements new version of spec.\n                    width = entry.contentBoxSize[0].inlineSize;\n                    height = entry.contentBoxSize[0].blockSize;\n                } else {\n                    // Firefox implements old version of spec.\n                    width = entry.contentBoxSize.inlineSize;\n                    height = entry.contentBoxSize.blockSize;\n                }\n            } else {\n                // Chrome <84 implements even older version of spec.\n                width = entry.contentRect.width;\n                height = entry.contentRect.height;\n            }\n\n            // Keep the size of the canvas and rubber band canvas in sync with\n            // the canvas container.\n            if (entry.devicePixelContentBoxSize) {\n                // Chrome 84 implements new version of spec.\n                canvas.setAttribute(\n                    'width',\n                    entry.devicePixelContentBoxSize[0].inlineSize\n                );\n                canvas.setAttribute(\n                    'height',\n                    entry.devicePixelContentBoxSize[0].blockSize\n                );\n            } else {\n                canvas.setAttribute('width', width * fig.ratio);\n                canvas.setAttribute('height', height * fig.ratio);\n            }\n            /* This rescales the canvas back to display pixels, so that it\n             * appears correct on HiDPI screens. */\n            canvas.style.width = width + 'px';\n            canvas.style.height = height + 'px';\n\n            rubberband_canvas.setAttribute('width', width);\n            rubberband_canvas.setAttribute('height', height);\n\n            // And update the size in Python. We ignore the initial 0/0 size\n            // that occurs as the element is placed into the DOM, which should\n            // otherwise not happen due to the minimum size styling.\n            if (width != 0 && height != 0) {\n                fig.request_resize(width, height);\n            }\n        }\n    });\n    this.resizeObserverInstance.observe(canvas_div);\n\n    function on_mouse_event_closure(name) {\n        /* User Agent sniffing is bad, but WebKit is busted:\n         * https://bugs.webkit.org/show_bug.cgi?id=144526\n         * https://bugs.webkit.org/show_bug.cgi?id=181818\n         * The worst that happens here is that they get an extra browser\n         * selection when dragging, if this check fails to catch them.\n         */\n        var UA = navigator.userAgent;\n        var isWebKit = /AppleWebKit/.test(UA) && !/Chrome/.test(UA);\n        if(isWebKit) {\n            return function (event) {\n                /* This prevents the web browser from automatically changing to\n                 * the text insertion cursor when the button is pressed. We\n                 * want to control all of the cursor setting manually through\n                 * the 'cursor' event from matplotlib */\n                event.preventDefault()\n                return fig.mouse_event(event, name);\n            };\n        } else {\n            return function (event) {\n                return fig.mouse_event(event, name);\n            };\n        }\n    }\n\n    canvas_div.addEventListener(\n        'mousedown',\n        on_mouse_event_closure('button_press')\n    );\n    canvas_div.addEventListener(\n        'mouseup',\n        on_mouse_event_closure('button_release')\n    );\n    canvas_div.addEventListener(\n        'dblclick',\n        on_mouse_event_closure('dblclick')\n    );\n    // Throttle sequential mouse events to 1 every 20ms.\n    canvas_div.addEventListener(\n        'mousemove',\n        on_mouse_event_closure('motion_notify')\n    );\n\n    canvas_div.addEventListener(\n        'mouseenter',\n        on_mouse_event_closure('figure_enter')\n    );\n    canvas_div.addEventListener(\n        'mouseleave',\n        on_mouse_event_closure('figure_leave')\n    );\n\n    canvas_div.addEventListener('wheel', function (event) {\n        if (event.deltaY < 0) {\n            event.step = 1;\n        } else {\n            event.step = -1;\n        }\n        on_mouse_event_closure('scroll')(event);\n    });\n\n    canvas_div.appendChild(canvas);\n    canvas_div.appendChild(rubberband_canvas);\n\n    this.rubberband_context = rubberband_canvas.getContext('2d');\n    this.rubberband_context.strokeStyle = '#000000';\n\n    this._resize_canvas = function (width, height, forward) {\n        if (forward) {\n            canvas_div.style.width = width + 'px';\n            canvas_div.style.height = height + 'px';\n        }\n    };\n\n    // Disable right mouse context menu.\n    canvas_div.addEventListener('contextmenu', function (_e) {\n        event.preventDefault();\n        return false;\n    });\n\n    function set_focus() {\n        canvas.focus();\n        canvas_div.focus();\n    }\n\n    window.setTimeout(set_focus, 100);\n};\n\nmpl.figure.prototype._init_toolbar = function () {\n    var fig = this;\n\n    var toolbar = document.createElement('div');\n    toolbar.classList = 'mpl-toolbar';\n    this.root.appendChild(toolbar);\n\n    function on_click_closure(name) {\n        return function (_event) {\n            return fig.toolbar_button_onclick(name);\n        };\n    }\n\n    function on_mouseover_closure(tooltip) {\n        return function (event) {\n            if (!event.currentTarget.disabled) {\n                return fig.toolbar_button_onmouseover(tooltip);\n            }\n        };\n    }\n\n    fig.buttons = {};\n    var buttonGroup = document.createElement('div');\n    buttonGroup.classList = 'mpl-button-group';\n    for (var toolbar_ind in mpl.toolbar_items) {\n        var name = mpl.toolbar_items[toolbar_ind][0];\n        var tooltip = mpl.toolbar_items[toolbar_ind][1];\n        var image = mpl.toolbar_items[toolbar_ind][2];\n        var method_name = mpl.toolbar_items[toolbar_ind][3];\n\n        if (!name) {\n            /* Instead of a spacer, we start a new button group. */\n            if (buttonGroup.hasChildNodes()) {\n                toolbar.appendChild(buttonGroup);\n            }\n            buttonGroup = document.createElement('div');\n            buttonGroup.classList = 'mpl-button-group';\n            continue;\n        }\n\n        var button = (fig.buttons[name] = document.createElement('button'));\n        button.classList = 'mpl-widget';\n        button.setAttribute('role', 'button');\n        button.setAttribute('aria-disabled', 'false');\n        button.addEventListener('click', on_click_closure(method_name));\n        button.addEventListener('mouseover', on_mouseover_closure(tooltip));\n\n        var icon_img = document.createElement('img');\n        icon_img.src = '_images/' + image + '.png';\n        icon_img.srcset = '_images/' + image + '_large.png 2x';\n        icon_img.alt = tooltip;\n        button.appendChild(icon_img);\n\n        buttonGroup.appendChild(button);\n    }\n\n    if (buttonGroup.hasChildNodes()) {\n        toolbar.appendChild(buttonGroup);\n    }\n\n    var fmt_picker = document.createElement('select');\n    fmt_picker.classList = 'mpl-widget';\n    toolbar.appendChild(fmt_picker);\n    this.format_dropdown = fmt_picker;\n\n    for (var ind in mpl.extensions) {\n        var fmt = mpl.extensions[ind];\n        var option = document.createElement('option');\n        option.selected = fmt === mpl.default_extension;\n        option.innerHTML = fmt;\n        fmt_picker.appendChild(option);\n    }\n\n    var status_bar = document.createElement('span');\n    status_bar.classList = 'mpl-message';\n    toolbar.appendChild(status_bar);\n    this.message = status_bar;\n};\n\nmpl.figure.prototype.request_resize = function (x_pixels, y_pixels) {\n    // Request matplotlib to resize the figure. Matplotlib will then trigger a resize in the client,\n    // which will in turn request a refresh of the image.\n    this.send_message('resize', { width: x_pixels, height: y_pixels });\n};\n\nmpl.figure.prototype.send_message = function (type, properties) {\n    properties['type'] = type;\n    properties['figure_id'] = this.id;\n    this.ws.send(JSON.stringify(properties));\n};\n\nmpl.figure.prototype.send_draw_message = function () {\n    if (!this.waiting) {\n        this.waiting = true;\n        this.ws.send(JSON.stringify({ type: 'draw', figure_id: this.id }));\n    }\n};\n\nmpl.figure.prototype.handle_save = function (fig, _msg) {\n    var format_dropdown = fig.format_dropdown;\n    var format = format_dropdown.options[format_dropdown.selectedIndex].value;\n    fig.ondownload(fig, format);\n};\n\nmpl.figure.prototype.handle_resize = function (fig, msg) {\n    var size = msg['size'];\n    if (size[0] !== fig.canvas.width || size[1] !== fig.canvas.height) {\n        fig._resize_canvas(size[0], size[1], msg['forward']);\n        fig.send_message('refresh', {});\n    }\n};\n\nmpl.figure.prototype.handle_rubberband = function (fig, msg) {\n    var x0 = msg['x0'] / fig.ratio;\n    var y0 = (fig.canvas.height - msg['y0']) / fig.ratio;\n    var x1 = msg['x1'] / fig.ratio;\n    var y1 = (fig.canvas.height - msg['y1']) / fig.ratio;\n    x0 = Math.floor(x0) + 0.5;\n    y0 = Math.floor(y0) + 0.5;\n    x1 = Math.floor(x1) + 0.5;\n    y1 = Math.floor(y1) + 0.5;\n    var min_x = Math.min(x0, x1);\n    var min_y = Math.min(y0, y1);\n    var width = Math.abs(x1 - x0);\n    var height = Math.abs(y1 - y0);\n\n    fig.rubberband_context.clearRect(\n        0,\n        0,\n        fig.canvas.width / fig.ratio,\n        fig.canvas.height / fig.ratio\n    );\n\n    fig.rubberband_context.strokeRect(min_x, min_y, width, height);\n};\n\nmpl.figure.prototype.handle_figure_label = function (fig, msg) {\n    // Updates the figure title.\n    fig.header.textContent = msg['label'];\n};\n\nmpl.figure.prototype.handle_cursor = function (fig, msg) {\n    fig.canvas_div.style.cursor = msg['cursor'];\n};\n\nmpl.figure.prototype.handle_message = function (fig, msg) {\n    fig.message.textContent = msg['message'];\n};\n\nmpl.figure.prototype.handle_draw = function (fig, _msg) {\n    // Request the server to send over a new figure.\n    fig.send_draw_message();\n};\n\nmpl.figure.prototype.handle_image_mode = function (fig, msg) {\n    fig.image_mode = msg['mode'];\n};\n\nmpl.figure.prototype.handle_history_buttons = function (fig, msg) {\n    for (var key in msg) {\n        if (!(key in fig.buttons)) {\n            continue;\n        }\n        fig.buttons[key].disabled = !msg[key];\n        fig.buttons[key].setAttribute('aria-disabled', !msg[key]);\n    }\n};\n\nmpl.figure.prototype.handle_navigate_mode = function (fig, msg) {\n    if (msg['mode'] === 'PAN') {\n        fig.buttons['Pan'].classList.add('active');\n        fig.buttons['Zoom'].classList.remove('active');\n    } else if (msg['mode'] === 'ZOOM') {\n        fig.buttons['Pan'].classList.remove('active');\n        fig.buttons['Zoom'].classList.add('active');\n    } else {\n        fig.buttons['Pan'].classList.remove('active');\n        fig.buttons['Zoom'].classList.remove('active');\n    }\n};\n\nmpl.figure.prototype.updated_canvas_event = function () {\n    // Called whenever the canvas gets updated.\n    this.send_message('ack', {});\n};\n\n// A function to construct a web socket function for onmessage handling.\n// Called in the figure constructor.\nmpl.figure.prototype._make_on_message_function = function (fig) {\n    return function socket_on_message(evt) {\n        if (evt.data instanceof Blob) {\n            var img = evt.data;\n            if (img.type !== 'image/png') {\n                /* FIXME: We get \"Resource interpreted as Image but\n                 * transferred with MIME type text/plain:\" errors on\n                 * Chrome.  But how to set the MIME type?  It doesn't seem\n                 * to be part of the websocket stream */\n                img.type = 'image/png';\n            }\n\n            /* Free the memory for the previous frames */\n            if (fig.imageObj.src) {\n                (window.URL || window.webkitURL).revokeObjectURL(\n                    fig.imageObj.src\n                );\n            }\n\n            fig.imageObj.src = (window.URL || window.webkitURL).createObjectURL(\n                img\n            );\n            fig.updated_canvas_event();\n            fig.waiting = false;\n            return;\n        } else if (\n            typeof evt.data === 'string' &&\n            evt.data.slice(0, 21) === 'data:image/png;base64'\n        ) {\n            fig.imageObj.src = evt.data;\n            fig.updated_canvas_event();\n            fig.waiting = false;\n            return;\n        }\n\n        var msg = JSON.parse(evt.data);\n        var msg_type = msg['type'];\n\n        // Call the  \"handle_{type}\" callback, which takes\n        // the figure and JSON message as its only arguments.\n        try {\n            var callback = fig['handle_' + msg_type];\n        } catch (e) {\n            console.log(\n                \"No handler for the '\" + msg_type + \"' message type: \",\n                msg\n            );\n            return;\n        }\n\n        if (callback) {\n            try {\n                // console.log(\"Handling '\" + msg_type + \"' message: \", msg);\n                callback(fig, msg);\n            } catch (e) {\n                console.log(\n                    \"Exception inside the 'handler_\" + msg_type + \"' callback:\",\n                    e,\n                    e.stack,\n                    msg\n                );\n            }\n        }\n    };\n};\n\nfunction getModifiers(event) {\n    var mods = [];\n    if (event.ctrlKey) {\n        mods.push('ctrl');\n    }\n    if (event.altKey) {\n        mods.push('alt');\n    }\n    if (event.shiftKey) {\n        mods.push('shift');\n    }\n    if (event.metaKey) {\n        mods.push('meta');\n    }\n    return mods;\n}\n\n/*\n * return a copy of an object with only non-object keys\n * we need this to avoid circular references\n * https://stackoverflow.com/a/24161582/3208463\n */\nfunction simpleKeys(original) {\n    return Object.keys(original).reduce(function (obj, key) {\n        if (typeof original[key] !== 'object') {\n            obj[key] = original[key];\n        }\n        return obj;\n    }, {});\n}\n\nmpl.figure.prototype.mouse_event = function (event, name) {\n    if (name === 'button_press') {\n        this.canvas.focus();\n        this.canvas_div.focus();\n    }\n\n    // from https://stackoverflow.com/q/1114465\n    var boundingRect = this.canvas.getBoundingClientRect();\n    var x = (event.clientX - boundingRect.left) * this.ratio;\n    var y = (event.clientY - boundingRect.top) * this.ratio;\n\n    this.send_message(name, {\n        x: x,\n        y: y,\n        button: event.button,\n        step: event.step,\n        buttons: event.buttons,\n        modifiers: getModifiers(event),\n        guiEvent: simpleKeys(event),\n    });\n\n    return false;\n};\n\nmpl.figure.prototype._key_event_extra = function (_event, _name) {\n    // Handle any extra behaviour associated with a key event\n};\n\nmpl.figure.prototype.key_event = function (event, name) {\n    // Prevent repeat events\n    if (name === 'key_press') {\n        if (event.key === this._key) {\n            return;\n        } else {\n            this._key = event.key;\n        }\n    }\n    if (name === 'key_release') {\n        this._key = null;\n    }\n\n    var value = '';\n    if (event.ctrlKey && event.key !== 'Control') {\n        value += 'ctrl+';\n    }\n    else if (event.altKey && event.key !== 'Alt') {\n        value += 'alt+';\n    }\n    else if (event.shiftKey && event.key !== 'Shift') {\n        value += 'shift+';\n    }\n\n    value += 'k' + event.key;\n\n    this._key_event_extra(event, name);\n\n    this.send_message(name, { key: value, guiEvent: simpleKeys(event) });\n    return false;\n};\n\nmpl.figure.prototype.toolbar_button_onclick = function (name) {\n    if (name === 'download') {\n        this.handle_save(this, null);\n    } else {\n        this.send_message('toolbar_button', { name: name });\n    }\n};\n\nmpl.figure.prototype.toolbar_button_onmouseover = function (tooltip) {\n    this.message.textContent = tooltip;\n};\n\n///////////////// REMAINING CONTENT GENERATED BY embed_js.py /////////////////\n// prettier-ignore\nvar _JSXTOOLS_RESIZE_OBSERVER=function(A){var t,i=new WeakMap,n=new WeakMap,a=new WeakMap,r=new WeakMap,o=new Set;function s(e){if(!(this instanceof s))throw new TypeError(\"Constructor requires 'new' operator\");i.set(this,e)}function h(){throw new TypeError(\"Function is not a constructor\")}function c(e,t,i,n){e=0 in arguments?Number(arguments[0]):0,t=1 in arguments?Number(arguments[1]):0,i=2 in arguments?Number(arguments[2]):0,n=3 in arguments?Number(arguments[3]):0,this.right=(this.x=this.left=e)+(this.width=i),this.bottom=(this.y=this.top=t)+(this.height=n),Object.freeze(this)}function d(){t=requestAnimationFrame(d);var s=new WeakMap,p=new Set;o.forEach((function(t){r.get(t).forEach((function(i){var r=t instanceof window.SVGElement,o=a.get(t),d=r?0:parseFloat(o.paddingTop),f=r?0:parseFloat(o.paddingRight),l=r?0:parseFloat(o.paddingBottom),u=r?0:parseFloat(o.paddingLeft),g=r?0:parseFloat(o.borderTopWidth),m=r?0:parseFloat(o.borderRightWidth),w=r?0:parseFloat(o.borderBottomWidth),b=u+f,F=d+l,v=(r?0:parseFloat(o.borderLeftWidth))+m,W=g+w,y=r?0:t.offsetHeight-W-t.clientHeight,E=r?0:t.offsetWidth-v-t.clientWidth,R=b+v,z=F+W,M=r?t.width:parseFloat(o.width)-R-E,O=r?t.height:parseFloat(o.height)-z-y;if(n.has(t)){var k=n.get(t);if(k[0]===M&&k[1]===O)return}n.set(t,[M,O]);var S=Object.create(h.prototype);S.target=t,S.contentRect=new c(u,d,M,O),s.has(i)||(s.set(i,[]),p.add(i)),s.get(i).push(S)}))})),p.forEach((function(e){i.get(e).call(e,s.get(e),e)}))}return s.prototype.observe=function(i){if(i instanceof window.Element){r.has(i)||(r.set(i,new Set),o.add(i),a.set(i,window.getComputedStyle(i)));var n=r.get(i);n.has(this)||n.add(this),cancelAnimationFrame(t),t=requestAnimationFrame(d)}},s.prototype.unobserve=function(i){if(i instanceof window.Element&&r.has(i)){var n=r.get(i);n.has(this)&&(n.delete(this),n.size||(r.delete(i),o.delete(i))),n.size||r.delete(i),o.size||cancelAnimationFrame(t)}},A.DOMRectReadOnly=c,A.ResizeObserver=s,A.ResizeObserverEntry=h,A}; // eslint-disable-line\nmpl.toolbar_items = [[\"Home\", \"Reset original view\", \"fa fa-home\", \"home\"], [\"Back\", \"Back to previous view\", \"fa fa-arrow-left\", \"back\"], [\"Forward\", \"Forward to next view\", \"fa fa-arrow-right\", \"forward\"], [\"\", \"\", \"\", \"\"], [\"Pan\", \"Left button pans, Right button zooms\\nx/y fixes axis, CTRL fixes aspect\", \"fa fa-arrows\", \"pan\"], [\"Zoom\", \"Zoom to rectangle\\nx/y fixes axis\", \"fa fa-square-o\", \"zoom\"], [\"\", \"\", \"\", \"\"], [\"Download\", \"Download plot\", \"fa fa-floppy-o\", \"download\"]];\n\nmpl.extensions = [\"eps\", \"jpeg\", \"pgf\", \"pdf\", \"png\", \"ps\", \"raw\", \"svg\", \"tif\", \"webp\"];\n\nmpl.default_extension = \"png\";/* global mpl */\n\nvar comm_websocket_adapter = function (comm) {\n    // Create a \"websocket\"-like object which calls the given IPython comm\n    // object with the appropriate methods. Currently this is a non binary\n    // socket, so there is still some room for performance tuning.\n    var ws = {};\n\n    ws.binaryType = comm.kernel.ws.binaryType;\n    ws.readyState = comm.kernel.ws.readyState;\n    function updateReadyState(_event) {\n        if (comm.kernel.ws) {\n            ws.readyState = comm.kernel.ws.readyState;\n        } else {\n            ws.readyState = 3; // Closed state.\n        }\n    }\n    comm.kernel.ws.addEventListener('open', updateReadyState);\n    comm.kernel.ws.addEventListener('close', updateReadyState);\n    comm.kernel.ws.addEventListener('error', updateReadyState);\n\n    ws.close = function () {\n        comm.close();\n    };\n    ws.send = function (m) {\n        //console.log('sending', m);\n        comm.send(m);\n    };\n    // Register the callback with on_msg.\n    comm.on_msg(function (msg) {\n        //console.log('receiving', msg['content']['data'], msg);\n        var data = msg['content']['data'];\n        if (data['blob'] !== undefined) {\n            data = {\n                data: new Blob(msg['buffers'], { type: data['blob'] }),\n            };\n        }\n        // Pass the mpl event to the overridden (by mpl) onmessage function.\n        ws.onmessage(data);\n    });\n    return ws;\n};\n\nmpl.mpl_figure_comm = function (comm, msg) {\n    // This is the function which gets called when the mpl process\n    // starts-up an IPython Comm through the \"matplotlib\" channel.\n\n    var id = msg.content.data.id;\n    // Get hold of the div created by the display call when the Comm\n    // socket was opened in Python.\n    var element = document.getElementById(id);\n    var ws_proxy = comm_websocket_adapter(comm);\n\n    function ondownload(figure, _format) {\n        window.open(figure.canvas.toDataURL());\n    }\n\n    var fig = new mpl.figure(id, ws_proxy, ondownload, element);\n\n    // Call onopen now - mpl needs it, as it is assuming we've passed it a real\n    // web socket which is closed, not our websocket->open comm proxy.\n    ws_proxy.onopen();\n\n    fig.parent_element = element;\n    fig.cell_info = mpl.find_output_cell(\"<div id='\" + id + \"'></div>\");\n    if (!fig.cell_info) {\n        console.error('Failed to find cell for figure', id, fig);\n        return;\n    }\n    fig.cell_info[0].output_area.element.on(\n        'cleared',\n        { fig: fig },\n        fig._remove_fig_handler\n    );\n};\n\nmpl.figure.prototype.handle_close = function (fig, msg) {\n    var width = fig.canvas.width / fig.ratio;\n    fig.cell_info[0].output_area.element.off(\n        'cleared',\n        fig._remove_fig_handler\n    );\n    fig.resizeObserverInstance.unobserve(fig.canvas_div);\n\n    // Update the output cell to use the data from the current canvas.\n    fig.push_to_output();\n    var dataURL = fig.canvas.toDataURL();\n    // Re-enable the keyboard manager in IPython - without this line, in FF,\n    // the notebook keyboard shortcuts fail.\n    IPython.keyboard_manager.enable();\n    fig.parent_element.innerHTML =\n        '<img src=\"' + dataURL + '\" width=\"' + width + '\">';\n    fig.close_ws(fig, msg);\n};\n\nmpl.figure.prototype.close_ws = function (fig, msg) {\n    fig.send_message('closing', msg);\n    // fig.ws.close()\n};\n\nmpl.figure.prototype.push_to_output = function (_remove_interactive) {\n    // Turn the data on the canvas into data in the output cell.\n    var width = this.canvas.width / this.ratio;\n    var dataURL = this.canvas.toDataURL();\n    this.cell_info[1]['text/html'] =\n        '<img src=\"' + dataURL + '\" width=\"' + width + '\">';\n};\n\nmpl.figure.prototype.updated_canvas_event = function () {\n    // Tell IPython that the notebook contents must change.\n    IPython.notebook.set_dirty(true);\n    this.send_message('ack', {});\n    var fig = this;\n    // Wait a second, then push the new image to the DOM so\n    // that it is saved nicely (might be nice to debounce this).\n    setTimeout(function () {\n        fig.push_to_output();\n    }, 1000);\n};\n\nmpl.figure.prototype._init_toolbar = function () {\n    var fig = this;\n\n    var toolbar = document.createElement('div');\n    toolbar.classList = 'btn-toolbar';\n    this.root.appendChild(toolbar);\n\n    function on_click_closure(name) {\n        return function (_event) {\n            return fig.toolbar_button_onclick(name);\n        };\n    }\n\n    function on_mouseover_closure(tooltip) {\n        return function (event) {\n            if (!event.currentTarget.disabled) {\n                return fig.toolbar_button_onmouseover(tooltip);\n            }\n        };\n    }\n\n    fig.buttons = {};\n    var buttonGroup = document.createElement('div');\n    buttonGroup.classList = 'btn-group';\n    var button;\n    for (var toolbar_ind in mpl.toolbar_items) {\n        var name = mpl.toolbar_items[toolbar_ind][0];\n        var tooltip = mpl.toolbar_items[toolbar_ind][1];\n        var image = mpl.toolbar_items[toolbar_ind][2];\n        var method_name = mpl.toolbar_items[toolbar_ind][3];\n\n        if (!name) {\n            /* Instead of a spacer, we start a new button group. */\n            if (buttonGroup.hasChildNodes()) {\n                toolbar.appendChild(buttonGroup);\n            }\n            buttonGroup = document.createElement('div');\n            buttonGroup.classList = 'btn-group';\n            continue;\n        }\n\n        button = fig.buttons[name] = document.createElement('button');\n        button.classList = 'btn btn-default';\n        button.href = '#';\n        button.title = name;\n        button.innerHTML = '<i class=\"fa ' + image + ' fa-lg\"></i>';\n        button.addEventListener('click', on_click_closure(method_name));\n        button.addEventListener('mouseover', on_mouseover_closure(tooltip));\n        buttonGroup.appendChild(button);\n    }\n\n    if (buttonGroup.hasChildNodes()) {\n        toolbar.appendChild(buttonGroup);\n    }\n\n    // Add the status bar.\n    var status_bar = document.createElement('span');\n    status_bar.classList = 'mpl-message pull-right';\n    toolbar.appendChild(status_bar);\n    this.message = status_bar;\n\n    // Add the close button to the window.\n    var buttongrp = document.createElement('div');\n    buttongrp.classList = 'btn-group inline pull-right';\n    button = document.createElement('button');\n    button.classList = 'btn btn-mini btn-primary';\n    button.href = '#';\n    button.title = 'Stop Interaction';\n    button.innerHTML = '<i class=\"fa fa-power-off icon-remove icon-large\"></i>';\n    button.addEventListener('click', function (_evt) {\n        fig.handle_close(fig, {});\n    });\n    button.addEventListener(\n        'mouseover',\n        on_mouseover_closure('Stop Interaction')\n    );\n    buttongrp.appendChild(button);\n    var titlebar = this.root.querySelector('.ui-dialog-titlebar');\n    titlebar.insertBefore(buttongrp, titlebar.firstChild);\n};\n\nmpl.figure.prototype._remove_fig_handler = function (event) {\n    var fig = event.data.fig;\n    if (event.target !== this) {\n        // Ignore bubbled events from children.\n        return;\n    }\n    fig.close_ws(fig, {});\n};\n\nmpl.figure.prototype._root_extra_style = function (el) {\n    el.style.boxSizing = 'content-box'; // override notebook setting of border-box.\n};\n\nmpl.figure.prototype._canvas_extra_style = function (el) {\n    // this is important to make the div 'focusable\n    el.setAttribute('tabindex', 0);\n    // reach out to IPython and tell the keyboard manager to turn it's self\n    // off when our div gets focus\n\n    // location in version 3\n    if (IPython.notebook.keyboard_manager) {\n        IPython.notebook.keyboard_manager.register_events(el);\n    } else {\n        // location in version 2\n        IPython.keyboard_manager.register_events(el);\n    }\n};\n\nmpl.figure.prototype._key_event_extra = function (event, _name) {\n    // Check for shift+enter\n    if (event.shiftKey && event.which === 13) {\n        this.canvas_div.blur();\n        // select the cell after this one\n        var index = IPython.notebook.find_cell_index(this.cell_info[0]);\n        IPython.notebook.select(index + 1);\n    }\n};\n\nmpl.figure.prototype.handle_save = function (fig, _msg) {\n    fig.ondownload(fig, null);\n};\n\nmpl.find_output_cell = function (html_output) {\n    // Return the cell and output element which can be found *uniquely* in the notebook.\n    // Note - this is a bit hacky, but it is done because the \"notebook_saving.Notebook\"\n    // IPython event is triggered only after the cells have been serialised, which for\n    // our purposes (turning an active figure into a static one), is too late.\n    var cells = IPython.notebook.get_cells();\n    var ncells = cells.length;\n    for (var i = 0; i < ncells; i++) {\n        var cell = cells[i];\n        if (cell.cell_type === 'code') {\n            for (var j = 0; j < cell.output_area.outputs.length; j++) {\n                var data = cell.output_area.outputs[j];\n                if (data.data) {\n                    // IPython >= 3 moved mimebundle to data attribute of output\n                    data = data.data;\n                }\n                if (data['text/html'] === html_output) {\n                    return [cell, data, j];\n                }\n            }\n        }\n    }\n};\n\n// Register the function which deals with the matplotlib target/channel.\n// The kernel may be null if the page has been refreshed.\nif (IPython.notebook.kernel !== null) {\n    IPython.notebook.kernel.comm_manager.register_target(\n        'matplotlib',\n        mpl.mpl_figure_comm\n    );\n}\n"
     },
     "metadata": {},
     "output_type": "display_data"
    },
    {
     "data": {
      "text/plain": [
       "<IPython.core.display.HTML object>"
      ],
      "text/html": [
       "<div id='a3a2dd4b-4943-4867-a923-155be10a0e30'></div>"
      ]
     },
     "metadata": {},
     "output_type": "display_data"
    }
   ],
   "execution_count": 8
  },
  {
   "metadata": {
    "ExecuteTime": {
     "end_time": "2025-07-13T20:18:20.044224Z",
     "start_time": "2025-07-13T20:18:19.962920Z"
    }
   },
   "cell_type": "code",
   "source": [
    "from algorithms.generic_policy import MultiAgentPolicy, CombinedPolicy\n",
    "from algorithms.generator import AgentGenerator\n",
    "from algorithms.keys_processors import CombinedExtractor\n",
    "from config import AgentNNConfig, BackboneConfig, HeadConfig, EnvConfig\n",
    "import yaml\n",
    "\n",
    "from config import TrainingConfig, LossConfig\n",
    "from algorithms.simple_nn import TrainableNNAgentPolicy\n",
    "\n",
    "with open(\"configs/run/test_single_training_poachers.yaml\", \"r\") as file:\n",
    "    config = yaml.safe_load(file)\n",
    "\n",
    "env_config = EnvConfig.from_dict(config)\n",
    "training_config_attacker = TrainingConfig.from_dict(config, suffix=f\"_attacker\")\n",
    "loss_config_attacker = LossConfig.from_dict(config, suffix=f\"_attacker\")\n",
    "agent_config = AgentNNConfig.from_dict(config)\n",
    "backbone_config = BackboneConfig.from_dict(config, suffix=f\"_backbone\")\n",
    "head_config = HeadConfig.from_dict(config, suffix=f\"_head\")\n",
    "\n",
    "\n",
    "# attacker_agent = MultiAgentPolicy(\n",
    "#     action_size=env.base_env.action_size,\n",
    "#     player_type=1,\n",
    "#     device=\"cpu\",\n",
    "#     embedding_size=32,\n",
    "#     run_name=\"test\",\n",
    "#     policy_generator=AgentGenerator(\n",
    "#         TrainableNNAgentPolicy,\n",
    "#         {\n",
    "#             \"action_size\": env.base_env.action_size,\n",
    "#             \"total_steps\": env.base_env.num_steps,\n",
    "#             \"player_type\": 1,\n",
    "#             \"embedding_size\": 32,\n",
    "#             \"device\": \"cpu\",\n",
    "#             \"loss_config\": loss_config_attacker,\n",
    "#             \"training_config\": training_config_attacker,\n",
    "#             \"run_name\": \"test\",\n",
    "#             \"use_transformer\": True,\n",
    "#         }\n",
    "#     ),\n",
    "# )\n",
    "attacker_extractor = CombinedExtractor(player_type=1, env=env, actions=backbone_config.extractors)\n",
    "attacker_agent = TrainableNNAgentPolicy(\n",
    "    player_type=1,\n",
    "    max_sequence_size=NUM_STEPS + 1,\n",
    "    extractor=attacker_extractor,\n",
    "    action_size=env.action_size,\n",
    "    env_type=env_config.env_pair,\n",
    "    device=\"cpu\",\n",
    "    loss_config=loss_config_attacker,\n",
    "    training_config=training_config_attacker,\n",
    "    run_name=\"test\",\n",
    "    backbone_config=backbone_config,\n",
    "    head_config=head_config,\n",
    "    agent_config=agent_config,\n",
    ")\n",
    "\n",
    "\n",
    "attacker_agent.eval()\n",
    "attacker_agent.load(\"saved_models/2025-07-07_23:54:35-attacker-/attacker/agent_0.pth\")"
   ],
   "id": "73dfe85dc26df794",
   "outputs": [
    {
     "ename": "TypeError",
     "evalue": "CombinedExtractor.__init__() got an unexpected keyword argument 'actions'",
     "output_type": "error",
     "traceback": [
      "\u001B[31m---------------------------------------------------------------------------\u001B[39m",
      "\u001B[31mTypeError\u001B[39m                                 Traceback (most recent call last)",
      "\u001B[36mCell\u001B[39m\u001B[36m \u001B[39m\u001B[32mIn[12]\u001B[39m\u001B[32m, line 42\u001B[39m\n\u001B[32m     18\u001B[39m head_config = HeadConfig.from_dict(config, suffix=\u001B[33mf\u001B[39m\u001B[33m\"\u001B[39m\u001B[33m_head\u001B[39m\u001B[33m\"\u001B[39m)\n\u001B[32m     21\u001B[39m \u001B[38;5;66;03m# attacker_agent = MultiAgentPolicy(\u001B[39;00m\n\u001B[32m     22\u001B[39m \u001B[38;5;66;03m#     action_size=env.base_env.action_size,\u001B[39;00m\n\u001B[32m     23\u001B[39m \u001B[38;5;66;03m#     player_type=1,\u001B[39;00m\n\u001B[32m   (...)\u001B[39m\u001B[32m     40\u001B[39m \u001B[38;5;66;03m#     ),\u001B[39;00m\n\u001B[32m     41\u001B[39m \u001B[38;5;66;03m# )\u001B[39;00m\n\u001B[32m---> \u001B[39m\u001B[32m42\u001B[39m attacker_extractor = \u001B[43mCombinedExtractor\u001B[49m\u001B[43m(\u001B[49m\u001B[43mplayer_type\u001B[49m\u001B[43m=\u001B[49m\u001B[32;43m1\u001B[39;49m\u001B[43m,\u001B[49m\u001B[43m \u001B[49m\u001B[43menv\u001B[49m\u001B[43m=\u001B[49m\u001B[43menv\u001B[49m\u001B[43m,\u001B[49m\u001B[43m \u001B[49m\u001B[43mactions\u001B[49m\u001B[43m=\u001B[49m\u001B[43mbackbone_config\u001B[49m\u001B[43m.\u001B[49m\u001B[43mextractors\u001B[49m\u001B[43m)\u001B[49m\n\u001B[32m     43\u001B[39m attacker_agent = TrainableNNAgentPolicy(\n\u001B[32m     44\u001B[39m     player_type=\u001B[32m1\u001B[39m,\n\u001B[32m     45\u001B[39m     max_sequence_size=NUM_STEPS + \u001B[32m1\u001B[39m,\n\u001B[32m   (...)\u001B[39m\u001B[32m     55\u001B[39m     agent_config=agent_config,\n\u001B[32m     56\u001B[39m )\n\u001B[32m     59\u001B[39m attacker_agent.eval()\n",
      "\u001B[31mTypeError\u001B[39m: CombinedExtractor.__init__() got an unexpected keyword argument 'actions'"
     ]
    }
   ],
   "execution_count": 12
  },
  {
   "metadata": {
    "ExecuteTime": {
     "end_time": "2025-07-13T20:18:42.554927Z",
     "start_time": "2025-07-13T20:18:42.551722Z"
    }
   },
   "cell_type": "code",
   "source": [
    "from algorithms.generic_policy import RandomAgent, GreedyOraclePoacherAgent\n",
    "\n",
    "\n",
    "greedy_agent = GreedyOraclePoacherAgent(\n",
    "    action_size=env.action_size,\n",
    "    player_type=1,\n",
    "    device=\"cpu\",\n",
    "    run_name=\"test\",\n",
    "    total_steps=NUM_STEPS,\n",
    "    embedding_size=agent_config.embedding_size,\n",
    "    env_map=env_map,\n",
    ")\n",
    "\n",
    "random_agent = RandomAgent(\n",
    "    action_size=env.action_size,\n",
    "    player_type=1,\n",
    "    device=\"cpu\",\n",
    "    run_name=\"test\",\n",
    "    embedding_size=agent_config.embedding_size,\n",
    ")"
   ],
   "id": "f0e796a534ded8cc",
   "outputs": [],
   "execution_count": 14
  },
  {
   "metadata": {
    "ExecuteTime": {
     "end_time": "2025-07-13T20:22:25.731599Z",
     "start_time": "2025-07-13T20:22:25.720152Z"
    }
   },
   "cell_type": "code",
   "source": "greedy_agent(out)[\"action\"]",
   "id": "6706f5a5ad5db89e",
   "outputs": [
    {
     "data": {
      "text/plain": [
       "tensor([5], dtype=torch.int32)"
      ]
     },
     "execution_count": 31,
     "metadata": {},
     "output_type": "execute_result"
    }
   ],
   "execution_count": 31
  },
  {
   "metadata": {
    "ExecuteTime": {
     "end_time": "2025-07-13T20:23:34.047776Z",
     "start_time": "2025-07-13T20:23:34.039883Z"
    }
   },
   "cell_type": "code",
   "source": "random_agent(out)[\"action\"]",
   "id": "baeb5846c4774c70",
   "outputs": [
    {
     "data": {
      "text/plain": [
       "tensor(2)"
      ]
     },
     "execution_count": 46,
     "metadata": {},
     "output_type": "execute_result"
    }
   ],
   "execution_count": 46
  },
  {
   "metadata": {
    "ExecuteTime": {
     "end_time": "2025-07-07T22:08:32.073036Z",
     "start_time": "2025-07-07T22:08:32.060895Z"
    }
   },
   "cell_type": "code",
   "source": [
    "a = attacker_agent(out)\n",
    "a[\"action\"]"
   ],
   "id": "edcb8e289256c207",
   "outputs": [
    {
     "data": {
      "text/plain": [
       "tensor(0)"
      ]
     },
     "execution_count": 6,
     "metadata": {},
     "output_type": "execute_result"
    }
   ],
   "execution_count": 6
  },
  {
   "metadata": {
    "ExecuteTime": {
     "end_time": "2025-07-07T22:08:43.992336Z",
     "start_time": "2025-07-07T22:08:43.985962Z"
    }
   },
   "cell_type": "code",
   "source": "a[\"logits\"]",
   "id": "3f7dbeeadbf8251f",
   "outputs": [
    {
     "data": {
      "text/plain": [
       "tensor([ 9.1918e-01, -1.5391e+00, -3.6143e+00, -2.1009e+00, -7.5466e-01,\n",
       "        -1.0000e+08, -1.0000e+08], grad_fn=<IndexPutBackward0>)"
      ]
     },
     "execution_count": 7,
     "metadata": {},
     "output_type": "execute_result"
    }
   ],
   "execution_count": 7
  },
  {
   "metadata": {
    "ExecuteTime": {
     "end_time": "2025-07-13T20:22:31.217155Z",
     "start_time": "2025-07-13T20:22:31.212816Z"
    }
   },
   "cell_type": "code",
   "source": [
    "out.update({\n",
    "    \"action\": torch.tensor([4, 5]),\n",
    "})\n",
    "out2 = env.step(out)"
   ],
   "id": "5cbd4f601014d9ea",
   "outputs": [],
   "execution_count": 32
  },
  {
   "metadata": {
    "ExecuteTime": {
     "end_time": "2025-07-13T20:22:33.078354Z",
     "start_time": "2025-07-13T20:22:32.371513Z"
    }
   },
   "cell_type": "code",
   "source": [
    "renderer.render()\n",
    "out = out2[\"next\"]\n",
    "out[\"game_id\"] = out2[\"game_id\"]"
   ],
   "id": "c58ef19ca2ecf564",
   "outputs": [],
   "execution_count": 33
  },
  {
   "metadata": {
    "ExecuteTime": {
     "end_time": "2025-07-07T20:53:22.024683Z",
     "start_time": "2025-07-07T20:53:22.019949Z"
    }
   },
   "cell_type": "code",
   "source": "out[\"done\"]",
   "id": "5efddaef4d2d591f",
   "outputs": [
    {
     "data": {
      "text/plain": [
       "tensor([True])"
      ]
     },
     "execution_count": 8,
     "metadata": {},
     "output_type": "execute_result"
    }
   ],
   "execution_count": 8
  },
  {
   "metadata": {
    "ExecuteTime": {
     "end_time": "2025-06-25T22:29:49.593538Z",
     "start_time": "2025-06-25T22:29:49.588867Z"
    }
   },
   "cell_type": "code",
   "source": "out2[\"next\"][\"available_moves\"]",
   "id": "942313b63ed0fd29",
   "outputs": [
    {
     "data": {
      "text/plain": [
       "tensor([[[-1, -1, -1, -1],\n",
       "         [-1, -1, -1, -1],\n",
       "         [-1, -1, -1, -1],\n",
       "         [-1, -1, -1, -1],\n",
       "         [-1, -1, -1, -1],\n",
       "         [-1, -1, -1, -1],\n",
       "         [-1, -1, -1, -1],\n",
       "         [-1, -1, -1, -1],\n",
       "         [-1, -1, -1, -1],\n",
       "         [-1, -1, -1, -1],\n",
       "         [-1, -1, -1, -1],\n",
       "         [-1, -1, -1, -1],\n",
       "         [-1, -1, -1, -1],\n",
       "         [-1, -1, -1, -1],\n",
       "         [-1, -1, -1, -1],\n",
       "         [ 5,  7, -1, -1],\n",
       "         [ 4,  6, -1, -1],\n",
       "         [ 3,  5, -1, -1],\n",
       "         [ 2,  4, -1, -1],\n",
       "         [ 1,  3, -1, -1],\n",
       "         [ 0,  2, -1, -1]],\n",
       "\n",
       "        [[-1, -1, -1, -1],\n",
       "         [-1, -1, -1, -1],\n",
       "         [-1, -1, -1, -1],\n",
       "         [-1, -1, -1, -1],\n",
       "         [-1, -1, -1, -1],\n",
       "         [-1, -1, -1, -1],\n",
       "         [-1, -1, -1, -1],\n",
       "         [-1, -1, -1, -1],\n",
       "         [-1, -1, -1, -1],\n",
       "         [-1, -1, -1, -1],\n",
       "         [-1, -1, -1, -1],\n",
       "         [-1, -1, -1, -1],\n",
       "         [-1, -1, -1, -1],\n",
       "         [-1, -1, -1, -1],\n",
       "         [-1, -1, -1, -1],\n",
       "         [ 7,  9, -1, -1],\n",
       "         [ 6,  8, -1, -1],\n",
       "         [ 5,  7, -1, -1],\n",
       "         [ 4,  6, -1, -1],\n",
       "         [ 4,  6, -1, -1],\n",
       "         [ 4,  6, -1, -1]]], dtype=torch.int32)"
      ]
     },
     "execution_count": 34,
     "metadata": {},
     "output_type": "execute_result"
    }
   ],
   "execution_count": 34
  },
  {
   "metadata": {
    "ExecuteTime": {
     "end_time": "2025-06-25T22:29:50.730396Z",
     "start_time": "2025-06-25T22:29:50.726447Z"
    }
   },
   "cell_type": "code",
   "source": "out2[\"next\"][\"node_reward_info\"]",
   "id": "5a5dbc8a44b74beb",
   "outputs": [
    {
     "data": {
      "text/plain": [
       "tensor([[[-1, -1],\n",
       "         [-1, -1],\n",
       "         [-1, -1],\n",
       "         [-1, -1],\n",
       "         [-1, -1],\n",
       "         [-1, -1],\n",
       "         [-1, -1],\n",
       "         [-1, -1],\n",
       "         [-1, -1],\n",
       "         [-1, -1],\n",
       "         [-1, -1],\n",
       "         [-1, -1],\n",
       "         [-1, -1],\n",
       "         [-1, -1],\n",
       "         [-1, -1],\n",
       "         [-1, -1],\n",
       "         [ 0,  0],\n",
       "         [-1, -1],\n",
       "         [-1, -1],\n",
       "         [-1, -1],\n",
       "         [-1, -1]],\n",
       "\n",
       "        [[-1, -1],\n",
       "         [-1, -1],\n",
       "         [-1, -1],\n",
       "         [-1, -1],\n",
       "         [-1, -1],\n",
       "         [-1, -1],\n",
       "         [-1, -1],\n",
       "         [-1, -1],\n",
       "         [-1, -1],\n",
       "         [-1, -1],\n",
       "         [-1, -1],\n",
       "         [-1, -1],\n",
       "         [-1, -1],\n",
       "         [-1, -1],\n",
       "         [-1, -1],\n",
       "         [-1, -1],\n",
       "         [-1, -1],\n",
       "         [-1, -1],\n",
       "         [ 0,  0],\n",
       "         [ 1,  0],\n",
       "         [ 1,  1]]], dtype=torch.int32)"
      ]
     },
     "execution_count": 35,
     "metadata": {},
     "output_type": "execute_result"
    }
   ],
   "execution_count": 35
  },
  {
   "metadata": {
    "ExecuteTime": {
     "end_time": "2025-06-25T22:29:52.184089Z",
     "start_time": "2025-06-25T22:29:51.485040Z"
    }
   },
   "cell_type": "code",
   "source": "renderer.render()",
   "id": "222586c9b3eeed65",
   "outputs": [],
   "execution_count": 36
  },
  {
   "metadata": {
    "ExecuteTime": {
     "end_time": "2025-06-25T22:30:26.186269Z",
     "start_time": "2025-06-25T22:30:26.182859Z"
    }
   },
   "cell_type": "code",
   "source": "out = out2[\"next\"]",
   "id": "61da05671bb0af7e",
   "outputs": [],
   "execution_count": 37
  },
  {
   "metadata": {
    "ExecuteTime": {
     "end_time": "2025-06-25T20:02:38.294244Z",
     "start_time": "2025-06-25T20:02:38.289633Z"
    }
   },
   "cell_type": "code",
   "source": "env.",
   "id": "9659da01bfb2b0aa",
   "outputs": [
    {
     "data": {
      "text/plain": [
       "tensor([False])"
      ]
     },
     "execution_count": 16,
     "metadata": {},
     "output_type": "execute_result"
    }
   ],
   "execution_count": 16
  },
  {
   "metadata": {
    "ExecuteTime": {
     "end_time": "2025-07-27T19:17:50.224630Z",
     "start_time": "2025-07-27T19:17:50.199874Z"
    }
   },
   "cell_type": "code",
   "source": [
    "import yaml\n",
    "from algorithms.simple_nn import TrainableNNAgentPolicy, NNAgentPolicy\n",
    "from algorithms.generic_policy import CombinedPolicy, MultiAgentPolicy, ExplorerAgent\n",
    "from algorithms.keys_processors import CombinedExtractor\n",
    "from algorithms.generator import AgentGenerator\n",
    "from config import TrainingConfig, LossConfig, EnvConfig, Player, AgentNNConfig, BackboneConfig, HeadConfig\n",
    "\n",
    "device = torch.device(\"cpu\")\n",
    "\n",
    "with open(\"configs/run/test_single_training_poachers.yaml\", \"r\") as file:\n",
    "    config = yaml.safe_load(file)\n",
    "\n",
    "run_name = \"test\"\n",
    "\n",
    "env_config_ = EnvConfig.from_dict(config)\n",
    "training_config = TrainingConfig.from_dict(config, suffix=f\"_attacker\")\n",
    "loss_config = LossConfig.from_dict(config, suffix=f\"_attacker\")\n",
    "agent_config = AgentNNConfig.from_dict(config)\n",
    "backbone_config = BackboneConfig.from_dict(config, suffix=f\"_backbone\")\n",
    "head_config = HeadConfig.from_dict(config, suffix=f\"_head\")\n",
    "\n",
    "env_map, env = env_config_.create(device)\n",
    "\n",
    "defender_extractor = CombinedExtractor(player_type=0, env=env, actions_map=backbone_config.extractors)\n",
    "attacker_extractor = CombinedExtractor(player_type=1, env=env, actions_map=backbone_config.extractors)\n",
    "\n",
    "defender_agent = NNAgentPolicy(\n",
    "    player_type=0,\n",
    "    max_sequence_size=env_config_.num_steps + 1,\n",
    "    extractor=defender_extractor,\n",
    "    action_size=env.action_size,\n",
    "    backbone_config=backbone_config,\n",
    "    head_config=head_config,\n",
    "    agent_config=agent_config,\n",
    "    device=device,\n",
    "    run_name=run_name,\n",
    ")\n",
    "attacker_agent = TrainableNNAgentPolicy(\n",
    "    player_type=1,\n",
    "    max_sequence_size=env_config_.num_steps + 1,\n",
    "    extractor=attacker_extractor,\n",
    "    action_size=env.action_size,\n",
    "    env_type=env_config_.env_pair,\n",
    "    device=device,\n",
    "    loss_config=loss_config,\n",
    "    training_config=training_config,\n",
    "    run_name=run_name,\n",
    "    backbone_config=backbone_config,\n",
    "    head_config=head_config,\n",
    "    agent_config=agent_config,\n",
    "    #scheduler_steps=training_config.total_steps_per_turn // training_config.steps_per_batch + 5,\n",
    ")\n",
    "\n",
    "exploration_defender = ExplorerAgent(\n",
    "    action_size=env.action_size,\n",
    "    player_type=0,\n",
    "    device=device,\n",
    "    run_name=run_name,\n",
    "    total_steps=env.num_steps,\n",
    "    embedding_size=agent_config.embedding_size,\n",
    ")\n",
    "exploration_attacker = ExplorerAgent(\n",
    "    action_size=env.action_size,\n",
    "    player_type=1,\n",
    "    device=device,\n",
    "    run_name=run_name,\n",
    "    total_steps=env.num_steps,\n",
    "    embedding_size=agent_config.embedding_size,\n",
    ")\n",
    "combined_policy = CombinedPolicy(\n",
    "    defender_agent,\n",
    "    attacker_agent,\n",
    "    #exploration_defender=exploration_defender,\n",
    "    #exploration_attacker=exploration_attacker,\n",
    ")"
   ],
   "id": "ab11057ed167c188",
   "outputs": [],
   "execution_count": 7
  },
  {
   "metadata": {
    "ExecuteTime": {
     "end_time": "2025-07-27T19:18:18.799487Z",
     "start_time": "2025-07-27T19:18:18.794114Z"
    }
   },
   "cell_type": "code",
   "source": "training_config.steps_per_batch",
   "id": "39c7e0a1b7d120a7",
   "outputs": [
    {
     "data": {
      "text/plain": [
       "10000"
      ]
     },
     "execution_count": 8,
     "metadata": {},
     "output_type": "execute_result"
    }
   ],
   "execution_count": 8
  },
  {
   "metadata": {
    "ExecuteTime": {
     "end_time": "2025-07-27T19:28:10.989919Z",
     "start_time": "2025-07-27T19:27:58.992509Z"
    }
   },
   "cell_type": "code",
   "source": [
    "from torchrl.collectors import SyncDataCollector, MultiaSyncDataCollector, MultiSyncDataCollector\n",
    "torch.multiprocessing.set_start_method('spawn', force=True)\n",
    "torch.multiprocessing.set_sharing_strategy('file_system')\n",
    "\n",
    "collector = MultiaSyncDataCollector(\n",
    "    [env.create_from_self for _ in range(4)],\n",
    "    policy=combined_policy,\n",
    "    frames_per_batch=10000,\n",
    "    total_frames=10000,\n",
    "    split_trajs=False,\n",
    "    device=env.device,\n",
    ")"
   ],
   "id": "30457014931f6832",
   "outputs": [],
   "execution_count": 20
  },
  {
   "metadata": {
    "ExecuteTime": {
     "end_time": "2025-07-27T19:29:28.663842Z",
     "start_time": "2025-07-27T19:28:10.991168Z"
    }
   },
   "cell_type": "code",
   "source": [
    "import time\n",
    "start = time.time()\n",
    "tensordict = next(collector.iterator())\n",
    "print(time.time() - start)"
   ],
   "id": "1825789d19df3345",
   "outputs": [
    {
     "name": "stdout",
     "output_type": "stream",
     "text": [
      "77.66230392456055\n"
     ]
    }
   ],
   "execution_count": 21
  },
  {
   "metadata": {
    "ExecuteTime": {
     "end_time": "2025-06-28T13:50:37.506247Z",
     "start_time": "2025-06-28T13:50:37.493512Z"
    }
   },
   "cell_type": "code",
   "source": "tensordict[\"next\"][\"reward\"][:, 1].mean()",
   "id": "95f0a0095eb00eaf",
   "outputs": [
    {
     "data": {
      "text/plain": [
       "tensor(0.0133)"
      ]
     },
     "execution_count": 8,
     "metadata": {},
     "output_type": "execute_result"
    }
   ],
   "execution_count": 8
  },
  {
   "metadata": {
    "ExecuteTime": {
     "end_time": "2025-06-28T13:50:38.543676Z",
     "start_time": "2025-06-28T13:50:38.535184Z"
    }
   },
   "cell_type": "code",
   "source": "tensordict[\"next\"][\"reward\"][:, 1].max()",
   "id": "7caf709b3fa10502",
   "outputs": [
    {
     "data": {
      "text/plain": [
       "tensor(57.0261)"
      ]
     },
     "execution_count": 9,
     "metadata": {},
     "output_type": "execute_result"
    }
   ],
   "execution_count": 9
  },
  {
   "metadata": {
    "ExecuteTime": {
     "end_time": "2025-06-29T15:46:21.399216Z",
     "start_time": "2025-06-29T15:46:21.392166Z"
    }
   },
   "cell_type": "code",
   "source": [
    "from torch_geometric.loader import DataLoader\n",
    "\n",
    "loader = DataLoader([env_map, env_map], batch_size=2)\n",
    "\n",
    "batch = next(iter(loader))"
   ],
   "id": "39e0880bef728f51",
   "outputs": [],
   "execution_count": 3
  },
  {
   "metadata": {
    "ExecuteTime": {
     "end_time": "2025-06-29T15:33:49.424734Z",
     "start_time": "2025-06-29T15:33:49.421026Z"
    }
   },
   "cell_type": "code",
   "source": "batch",
   "id": "1e753ee5c3ce8887",
   "outputs": [
    {
     "data": {
      "text/plain": [
       "PoachersMapBatch(x=[20, 2], edge_index=[2, 80], entry_nodes=[20], reward_nodes=[20], move_cost=[2], preparation_reward=[2], device=[2], batch=[20], ptr=[3])"
      ]
     },
     "execution_count": 4,
     "metadata": {},
     "output_type": "execute_result"
    }
   ],
   "execution_count": 4
  },
  {
   "metadata": {
    "ExecuteTime": {
     "end_time": "2025-06-29T15:34:34.038558Z",
     "start_time": "2025-06-29T15:34:34.033771Z"
    }
   },
   "cell_type": "code",
   "source": "batch.edge_index.shape",
   "id": "6d6b8bb23f20a646",
   "outputs": [
    {
     "data": {
      "text/plain": [
       "torch.Size([2, 80])"
      ]
     },
     "execution_count": 7,
     "metadata": {},
     "output_type": "execute_result"
    }
   ],
   "execution_count": 7
  },
  {
   "metadata": {
    "ExecuteTime": {
     "end_time": "2025-06-29T15:46:23.126922Z",
     "start_time": "2025-06-29T15:46:23.124862Z"
    }
   },
   "cell_type": "code",
   "source": [
    "from unittest.mock import patch\n",
    "from torch import nn"
   ],
   "id": "6756f25936be7f70",
   "outputs": [],
   "execution_count": 4
  },
  {
   "metadata": {
    "ExecuteTime": {
     "end_time": "2025-06-29T15:46:23.659604Z",
     "start_time": "2025-06-29T15:46:23.656920Z"
    }
   },
   "cell_type": "code",
   "source": [
    "class _Linear(nn.Linear):\n",
    "    def __init__(\n",
    "        self,\n",
    "        in_channels: int,\n",
    "        out_channels: int,\n",
    "        bias: bool = True,\n",
    "        weight_initializer: str | None = None,\n",
    "        bias_initializer: str | None = None,\n",
    "    ):\n",
    "        super().__init__(\n",
    "            in_features=in_channels,\n",
    "            out_features=out_channels,\n",
    "            bias=bias,\n",
    "        )"
   ],
   "id": "ed8da15fc0107773",
   "outputs": [],
   "execution_count": 5
  },
  {
   "metadata": {
    "ExecuteTime": {
     "end_time": "2025-06-29T15:46:31.139517Z",
     "start_time": "2025-06-29T15:46:31.104958Z"
    }
   },
   "cell_type": "code",
   "source": [
    "with patch(\"torch_geometric.nn.conv.gcn_conv.Linear\", side_effect=_Linear):\n",
    "    from torch_geometric.nn.conv import GCNConv\n",
    "    convs = nn.ModuleList([\n",
    "        GCNConv(2, 5, aggr=\"mean\"),\n",
    "        GCNConv(5, 5, aggr=\"mean\"),\n",
    "        GCNConv(5, 5, aggr=\"mean\"),\n",
    "    ])"
   ],
   "id": "c8e75cfae5804ffe",
   "outputs": [],
   "execution_count": 7
  },
  {
   "metadata": {
    "ExecuteTime": {
     "end_time": "2025-06-29T15:46:31.730085Z",
     "start_time": "2025-06-29T15:46:31.722032Z"
    }
   },
   "cell_type": "code",
   "source": [
    "x = batch.x\n",
    "for conv_layer in convs:\n",
    "    x = conv_layer(x, batch.edge_index)\n",
    "    x = torch.relu(x)\n",
    "x"
   ],
   "id": "1dcb8b93459b78fb",
   "outputs": [
    {
     "data": {
      "text/plain": [
       "tensor([[0.0009, 0.0000, 0.0007, 0.0000, 0.0000],\n",
       "        [0.0012, 0.0000, 0.0009, 0.0000, 0.0000],\n",
       "        [0.0014, 0.0000, 0.0011, 0.0000, 0.0000],\n",
       "        [0.0015, 0.0000, 0.0011, 0.0000, 0.0000],\n",
       "        [0.0014, 0.0000, 0.0011, 0.0000, 0.0000],\n",
       "        [0.0012, 0.0000, 0.0009, 0.0000, 0.0000],\n",
       "        [0.0009, 0.0000, 0.0007, 0.0000, 0.0000],\n",
       "        [0.0007, 0.0000, 0.0005, 0.0000, 0.0000],\n",
       "        [0.0006, 0.0000, 0.0004, 0.0000, 0.0000],\n",
       "        [0.0007, 0.0000, 0.0005, 0.0000, 0.0000],\n",
       "        [0.0009, 0.0000, 0.0007, 0.0000, 0.0000],\n",
       "        [0.0012, 0.0000, 0.0009, 0.0000, 0.0000],\n",
       "        [0.0014, 0.0000, 0.0011, 0.0000, 0.0000],\n",
       "        [0.0015, 0.0000, 0.0011, 0.0000, 0.0000],\n",
       "        [0.0014, 0.0000, 0.0011, 0.0000, 0.0000],\n",
       "        [0.0012, 0.0000, 0.0009, 0.0000, 0.0000],\n",
       "        [0.0009, 0.0000, 0.0007, 0.0000, 0.0000],\n",
       "        [0.0007, 0.0000, 0.0005, 0.0000, 0.0000],\n",
       "        [0.0006, 0.0000, 0.0004, 0.0000, 0.0000],\n",
       "        [0.0007, 0.0000, 0.0005, 0.0000, 0.0000]], grad_fn=<ReluBackward0>)"
      ]
     },
     "execution_count": 8,
     "metadata": {},
     "output_type": "execute_result"
    }
   ],
   "execution_count": 8
  },
  {
   "metadata": {
    "ExecuteTime": {
     "end_time": "2025-07-27T19:17:20.197011Z",
     "start_time": "2025-07-27T19:17:20.180532Z"
    }
   },
   "cell_type": "code",
   "source": [
    "from algorithms.generic_policy import MultiAgentPolicy, CombinedPolicy\n",
    "from algorithms.generator import AgentGenerator\n",
    "from algorithms.keys_processors import CombinedExtractor\n",
    "from config import AgentNNConfig, BackboneConfig, HeadConfig, EnvConfig\n",
    "import yaml\n",
    "\n",
    "from config import TrainingConfig, LossConfig\n",
    "from algorithms.simple_nn import TrainableNNAgentPolicy\n",
    "\n",
    "with open(\"configs/run/test_single_training_poachers.yaml\", \"r\") as file:\n",
    "    config = yaml.safe_load(file)\n",
    "\n",
    "env_config = EnvConfig.from_dict(config)\n",
    "training_config_attacker = TrainingConfig.from_dict(config, suffix=f\"_attacker\")\n",
    "loss_config_attacker = LossConfig.from_dict(config, suffix=f\"_attacker\")\n",
    "agent_config = AgentNNConfig.from_dict(config)\n",
    "backbone_config = BackboneConfig.from_dict(config, suffix=f\"_backbone\")\n",
    "head_config = HeadConfig.from_dict(config, suffix=f\"_head\")\n",
    "\n",
    "\n",
    "# attacker_agent = MultiAgentPolicy(\n",
    "#     action_size=env.base_env.action_size,\n",
    "#     player_type=1,\n",
    "#     device=\"cpu\",\n",
    "#     embedding_size=32,\n",
    "#     run_name=\"test\",\n",
    "#     policy_generator=AgentGenerator(\n",
    "#         TrainableNNAgentPolicy,\n",
    "#         {\n",
    "#             \"action_size\": env.base_env.action_size,\n",
    "#             \"total_steps\": env.base_env.num_steps,\n",
    "#             \"player_type\": 1,\n",
    "#             \"embedding_size\": 32,\n",
    "#             \"device\": \"cpu\",\n",
    "#             \"loss_config\": loss_config_attacker,\n",
    "#             \"training_config\": training_config_attacker,\n",
    "#             \"run_name\": \"test\",\n",
    "#             \"use_transformer\": True,\n",
    "#         }\n",
    "#     ),\n",
    "# )\n",
    "attacker_extractor = CombinedExtractor(player_type=1, env=env, actions_map=backbone_config.extractors)\n",
    "attacker_agent = TrainableNNAgentPolicy(\n",
    "    player_type=1,\n",
    "    max_sequence_size=NUM_STEPS + 1,\n",
    "    extractor=attacker_extractor,\n",
    "    action_size=env.action_size,\n",
    "    env_type=env_config.env_pair,\n",
    "    device=\"cpu\",\n",
    "    loss_config=loss_config_attacker,\n",
    "    training_config=training_config_attacker,\n",
    "    run_name=\"test\",\n",
    "    backbone_config=backbone_config,\n",
    "    head_config=head_config,\n",
    "    agent_config=agent_config,\n",
    ")"
   ],
   "id": "7cd3d60699b0629a",
   "outputs": [],
   "execution_count": 5
  },
  {
   "metadata": {
    "ExecuteTime": {
     "end_time": "2025-07-07T20:54:25.456894Z",
     "start_time": "2025-07-07T20:54:25.451209Z"
    }
   },
   "cell_type": "code",
   "source": "from utils import create_replay_buffer",
   "id": "f1af2b2a92e947f9",
   "outputs": [],
   "execution_count": 10
  },
  {
   "metadata": {
    "ExecuteTime": {
     "end_time": "2025-07-07T19:24:41.146149Z",
     "start_time": "2025-07-07T19:24:41.138527Z"
    }
   },
   "cell_type": "code",
   "source": "replay_buffer = create_replay_buffer(training_config_attacker)",
   "id": "d61e1e4901a56d31",
   "outputs": [],
   "execution_count": 6
  },
  {
   "metadata": {
    "ExecuteTime": {
     "end_time": "2025-07-07T19:47:45.508034Z",
     "start_time": "2025-07-07T19:47:45.499390Z"
    }
   },
   "cell_type": "code",
   "source": "env_map.move_cost * (NUM_STEPS - 2)",
   "id": "6c6d121cf6e323dd",
   "outputs": [
    {
     "data": {
      "text/plain": [
       "tensor(-1.6043)"
      ]
     },
     "execution_count": 6,
     "metadata": {},
     "output_type": "execute_result"
    }
   ],
   "execution_count": 6
  },
  {
   "metadata": {
    "ExecuteTime": {
     "end_time": "2025-07-07T19:48:58.136488Z",
     "start_time": "2025-07-07T19:48:58.129125Z"
    }
   },
   "cell_type": "code",
   "source": "env_map.x[0].sum()",
   "id": "8f1e382d25a51d97",
   "outputs": [
    {
     "data": {
      "text/plain": [
       "tensor(0.)"
      ]
     },
     "execution_count": 11,
     "metadata": {},
     "output_type": "execute_result"
    }
   ],
   "execution_count": 11
  },
  {
   "metadata": {
    "ExecuteTime": {
     "end_time": "2025-07-07T19:49:07.567455Z",
     "start_time": "2025-07-07T19:49:07.560854Z"
    }
   },
   "cell_type": "code",
   "source": "env_map.x",
   "id": "404209e923b28b02",
   "outputs": [
    {
     "data": {
      "text/plain": [
       "tensor([[ 0.0000,  0.0000],\n",
       "        [ 0.0000,  0.0000],\n",
       "        [ 0.6343, -0.0050],\n",
       "        [ 0.0000,  0.0000],\n",
       "        [ 0.7104, -0.1165],\n",
       "        [ 0.0000,  0.0000],\n",
       "        [ 0.0000,  0.0000],\n",
       "        [ 0.0000,  0.0000],\n",
       "        [ 0.0000,  0.0000],\n",
       "        [ 0.0000,  0.0000]])"
      ]
     },
     "execution_count": 12,
     "metadata": {},
     "output_type": "execute_result"
    }
   ],
   "execution_count": 12
  },
  {
   "metadata": {
    "ExecuteTime": {
     "end_time": "2025-07-07T19:49:45.281292Z",
     "start_time": "2025-07-07T19:49:45.274473Z"
    }
   },
   "cell_type": "code",
   "source": "env_map.preparation_reward",
   "id": "13dc68e6e7792b1b",
   "outputs": [
    {
     "data": {
      "text/plain": [
       "tensor(1.1447)"
      ]
     },
     "execution_count": 13,
     "metadata": {},
     "output_type": "execute_result"
    }
   ],
   "execution_count": 13
  },
  {
   "metadata": {},
   "cell_type": "code",
   "outputs": [],
   "execution_count": null,
   "source": "",
   "id": "71bb02c647a29393"
  }
 ],
 "metadata": {
  "kernelspec": {
   "display_name": "Python 3",
   "language": "python",
   "name": "python3"
  },
  "language_info": {
   "codemirror_mode": {
    "name": "ipython",
    "version": 2
   },
   "file_extension": ".py",
   "mimetype": "text/x-python",
   "name": "python",
   "nbconvert_exporter": "python",
   "pygments_lexer": "ipython2",
   "version": "2.7.6"
  }
 },
 "nbformat": 4,
 "nbformat_minor": 5
}
