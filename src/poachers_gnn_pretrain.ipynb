{
 "cells": [
  {
   "cell_type": "code",
   "id": "initial_id",
   "metadata": {
    "collapsed": true,
    "ExecuteTime": {
     "end_time": "2025-07-06T19:56:23.516381Z",
     "start_time": "2025-07-06T19:56:20.828485Z"
    }
   },
   "source": [
    "from config import EnvConfig\n",
    "from environments.poachers import PoachersEnv, PoachersMap\n",
    "import torch\n",
    "\n",
    "NUM_NODES = 10\n",
    "NUM_STEPS = 20\n",
    "SEED = 42\n",
    "\n",
    "config = EnvConfig(\n",
    "    num_nodes=NUM_NODES,\n",
    "    num_steps=NUM_STEPS,\n",
    "    seed=SEED,\n",
    "    env_name=\"poachers\",\n",
    ")\n",
    "device = torch.device(\"cuda:0\")\n",
    "\n",
    "env_map = PoachersMap(config, device)\n",
    "env = PoachersEnv(config, env_map, device)\n",
    "env.reset()"
   ],
   "outputs": [
    {
     "data": {
      "text/plain": [
       "TensorDict(\n",
       "    fields={\n",
       "        actions_mask: Tensor(shape=torch.Size([2, 7]), device=cuda:0, dtype=torch.bool, is_shared=True),\n",
       "        actions_seq: Tensor(shape=torch.Size([2, 21]), device=cuda:0, dtype=torch.int32, is_shared=True),\n",
       "        available_moves: Tensor(shape=torch.Size([2, 21, 4]), device=cuda:0, dtype=torch.int32, is_shared=True),\n",
       "        done: Tensor(shape=torch.Size([1]), device=cuda:0, dtype=torch.bool, is_shared=True),\n",
       "        game_id: Tensor(shape=torch.Size([16]), device=cuda:0, dtype=torch.uint8, is_shared=True),\n",
       "        graph_edge_index: Tensor(shape=torch.Size([2, 40]), device=cuda:0, dtype=torch.int64, is_shared=True),\n",
       "        graph_x: Tensor(shape=torch.Size([2, 10, 3]), device=cuda:0, dtype=torch.float32, is_shared=True),\n",
       "        node_reward_info: Tensor(shape=torch.Size([2, 21, 2]), device=cuda:0, dtype=torch.int32, is_shared=True),\n",
       "        position_seq: Tensor(shape=torch.Size([2, 21]), device=cuda:0, dtype=torch.int64, is_shared=True),\n",
       "        step_count: Tensor(shape=torch.Size([1]), device=cuda:0, dtype=torch.int32, is_shared=True),\n",
       "        step_count_seq: Tensor(shape=torch.Size([21]), device=cuda:0, dtype=torch.int32, is_shared=True),\n",
       "        terminated: Tensor(shape=torch.Size([1]), device=cuda:0, dtype=torch.bool, is_shared=True),\n",
       "        track_value: Tensor(shape=torch.Size([2, 21, 10]), device=cuda:0, dtype=torch.int32, is_shared=True),\n",
       "        truncated: Tensor(shape=torch.Size([1]), device=cuda:0, dtype=torch.bool, is_shared=True)},\n",
       "    batch_size=torch.Size([]),\n",
       "    device=cuda:0,\n",
       "    is_shared=True)"
      ]
     },
     "execution_count": 1,
     "metadata": {},
     "output_type": "execute_result"
    }
   ],
   "execution_count": 1
  },
  {
   "metadata": {
    "ExecuteTime": {
     "end_time": "2025-07-02T22:03:34.336698Z",
     "start_time": "2025-07-02T22:03:34.329689Z"
    }
   },
   "cell_type": "code",
   "source": [
    "def distances_to_nearest_reward(curr_env):\n",
    "    final_distances = torch.full((curr_env.map.num_nodes,), float('inf'), dtype=torch.float32, device=curr_env.device)\n",
    "\n",
    "    nodes = torch.where(~curr_env.nodes_collected & curr_env.map.reward_nodes)[0].tolist()\n",
    "    distances = [0] * len(nodes)\n",
    "    visited: set[int] = set()\n",
    "\n",
    "    while nodes:\n",
    "        current_node = nodes.pop(0)\n",
    "        distance = distances.pop(0)\n",
    "        if current_node in visited or distance >= final_distances[current_node].item():\n",
    "            continue\n",
    "        visited.add(current_node)\n",
    "        final_distances[current_node] = distance\n",
    "\n",
    "        neighbors = curr_env.map.get_neighbors(\n",
    "            torch.tensor([current_node], dtype=torch.int32, device=curr_env.device)).squeeze(0).cpu().tolist()\n",
    "        for neighbor in neighbors:\n",
    "            if neighbor != -1 and neighbor not in visited:\n",
    "                distances.append(distance + 1)\n",
    "                nodes.append(neighbor)\n",
    "\n",
    "    return final_distances"
   ],
   "id": "b48a866ab46ee4e4",
   "outputs": [],
   "execution_count": 2
  },
  {
   "metadata": {
    "ExecuteTime": {
     "end_time": "2025-07-02T22:03:55.472628Z",
     "start_time": "2025-07-02T22:03:35.087146Z"
    }
   },
   "cell_type": "code",
   "source": [
    "import tqdm\n",
    "\n",
    "generated_data = []\n",
    "targets = []\n",
    "positions = []\n",
    "\n",
    "generator = torch.Generator().manual_seed(500)\n",
    "for i in tqdm.tqdm(range(5000)):\n",
    "    #if torch.rand(torch.Size(()), generator=generator).item() < 0.5:\n",
    "    #    position = 3 #(torch.where(env_map.reward_nodes)[0])[torch.randint(0, torch.sum(env_map.entry_nodes), torch.Size(()), generator=generator).item()]\n",
    "    #else:\n",
    "    position = torch.randint(0, NUM_NODES, torch.Size(()), generator=generator).item()\n",
    "    positions.append(position)\n",
    "    env.position = torch.tensor([(position+1) % NUM_NODES, position], dtype=torch.int64, device=device)\n",
    "    track_value = torch.full((2, NUM_NODES), -NUM_STEPS, dtype=torch.int32, device=device)\n",
    "    if torch.rand(torch.Size(()), generator=generator).item() < 0.2:\n",
    "        track_value[1, position] = torch.randint(0, NUM_STEPS+1, torch.Size(()), dtype=torch.int32, generator=generator).item()\n",
    "    \n",
    "    env.nodes_prepared = torch.zeros_like(env.nodes_prepared, dtype=torch.bool, device=device)\n",
    "    env.nodes_collected = torch.zeros_like(env.nodes_collected, dtype=torch.bool, device=device)\n",
    "    if env_map.reward_nodes[position].item() and not env.nodes_collected[position].item():\n",
    "        env.nodes_prepared[position] = torch.rand(torch.Size(()), generator=generator).item() < 0.5\n",
    "        env.nodes_collected[position] = torch.rand(torch.Size(()), generator=generator).item() < 0.5\n",
    "    \n",
    "    generated_data.append(env._get_graph_x(track_value))\n",
    "    \n",
    "    neighbors = env_map.get_neighbors(torch.tensor([position], dtype=torch.int64, device=device)).squeeze(0)\n",
    "    distances = torch.where(neighbors != -1, distances_to_nearest_reward(env)[neighbors], float(\"inf\"))\n",
    "    #distances = distances_to_nearest_reward(env)\n",
    "    #targets.append(distances[position].item()) # env.map.reward_nodes[position].float().item())\n",
    "    targets.append(distances)\n",
    "    # if ~env.nodes_collected[position] & env_map.reward_nodes[position]:\n",
    "    #     if env.nodes_prepared[position].item():\n",
    "    #         targets.append(6)\n",
    "    #     else:\n",
    "    #         targets.append(5)\n",
    "    # else:\n",
    "    #     min_dist = torch.min(distances).item()\n",
    "    #     min_idxs = torch.where(distances == min_dist)[0]\n",
    "    #     targets.append(min_idxs[0].cpu().item())\n",
    "    #     #targets.append(min_idxs[torch.randint(0, min_idxs.numel(), torch.Size(()), generator=generator).item()].cpu().item())"
   ],
   "id": "8dbe91a1ee8b295c",
   "outputs": [
    {
     "name": "stderr",
     "output_type": "stream",
     "text": [
      "100%|██████████| 5000/5000 [00:20<00:00, 245.37it/s]\n"
     ]
    }
   ],
   "execution_count": 3
  },
  {
   "metadata": {
    "ExecuteTime": {
     "end_time": "2025-07-02T22:03:56.231037Z",
     "start_time": "2025-07-02T22:03:56.222881Z"
    }
   },
   "cell_type": "code",
   "source": [
    "data_X = torch.stack(generated_data, dim=0)\n",
    "# data_y = torch.tensor(targets, dtype=torch.int64, device=device)\n",
    "data_y = torch.stack(targets, dim=0)\n",
    "#data_y = torch.tensor(targets, dtype=torch.float32, device=device)\n",
    "data_position = torch.tensor(positions, dtype=torch.int64, device=device)"
   ],
   "id": "9d3468d5e0922633",
   "outputs": [],
   "execution_count": 4
  },
  {
   "metadata": {
    "ExecuteTime": {
     "end_time": "2025-07-01T21:00:03.550848Z",
     "start_time": "2025-07-01T21:00:03.546064Z"
    }
   },
   "cell_type": "code",
   "source": [
    "mask = data_y == 0\n",
    "idxs = torch.where(mask)[0]\n",
    "leave_idxs = torch.cat([idxs[torch.randperm(idxs.numel(), generator=generator)[:900]], torch.where(~mask)[0]], dim=0)\n",
    "data_X = data_X[leave_idxs]\n",
    "data_y = data_y[leave_idxs]\n",
    "data_position = data_position[leave_idxs]"
   ],
   "id": "965379c87a72f9a5",
   "outputs": [],
   "execution_count": 5
  },
  {
   "metadata": {
    "ExecuteTime": {
     "end_time": "2025-07-01T20:08:42.721060Z",
     "start_time": "2025-07-01T20:08:42.716812Z"
    }
   },
   "cell_type": "code",
   "source": [
    "mask = data_y == 1\n",
    "idxs = torch.where(mask)[0]\n",
    "leave_idxs = torch.cat([idxs[torch.randperm(idxs.numel(), generator=generator)[:900]], torch.where(~mask)[0]], dim=0)\n",
    "data_X = data_X[leave_idxs]\n",
    "data_y = data_y[leave_idxs]\n",
    "data_position = data_position[leave_idxs]"
   ],
   "id": "3173a5e2d65e0918",
   "outputs": [],
   "execution_count": 6
  },
  {
   "metadata": {
    "ExecuteTime": {
     "end_time": "2025-07-01T20:08:43.080933Z",
     "start_time": "2025-07-01T20:08:43.067276Z"
    }
   },
   "cell_type": "code",
   "source": [
    "mask = data_y == 5\n",
    "idxs = torch.where(mask)[0]\n",
    "leave_idxs = torch.cat([idxs[torch.randperm(idxs.numel(), generator=generator)[:900]], torch.where(~mask)[0]], dim=0)\n",
    "data_X = data_X[leave_idxs]\n",
    "data_y = data_y[leave_idxs]\n",
    "data_position = data_position[leave_idxs]"
   ],
   "id": "fd27108e76d572a7",
   "outputs": [],
   "execution_count": 7
  },
  {
   "metadata": {
    "ExecuteTime": {
     "end_time": "2025-07-01T20:08:43.455293Z",
     "start_time": "2025-07-01T20:08:43.451320Z"
    }
   },
   "cell_type": "code",
   "source": [
    "mask = data_y == 6\n",
    "idxs = torch.where(mask)[0]\n",
    "leave_idxs = torch.cat([idxs[torch.randperm(idxs.numel(), generator=generator)[:900]], torch.where(~mask)[0]], dim=0)\n",
    "data_X = data_X[leave_idxs]\n",
    "data_y = data_y[leave_idxs]\n",
    "data_position = data_position[leave_idxs]"
   ],
   "id": "1fe2b6d7245f90cd",
   "outputs": [],
   "execution_count": 8
  },
  {
   "metadata": {
    "ExecuteTime": {
     "end_time": "2025-07-01T21:39:09.453279Z",
     "start_time": "2025-07-01T21:39:09.431400Z"
    }
   },
   "cell_type": "code",
   "source": [
    "mask = data_y == 0\n",
    "idxs = torch.where(mask)[0]\n",
    "leave_idxs = torch.cat([idxs[torch.randperm(idxs.numel(), generator=generator)[:900]], torch.where(~mask)[0]], dim=0)\n",
    "data_X = data_X[leave_idxs]\n",
    "data_y = data_y[leave_idxs]\n",
    "data_position = data_position[leave_idxs]\n",
    "\n",
    "mask = data_y == 1\n",
    "idxs = torch.where(mask)[0]\n",
    "leave_idxs = torch.cat([idxs[torch.randperm(idxs.numel(), generator=generator)[:900]], torch.where(~mask)[0]], dim=0)\n",
    "data_X = data_X[leave_idxs]\n",
    "data_y = data_y[leave_idxs]\n",
    "data_position = data_position[leave_idxs]\n",
    "# \n",
    "# mask = data_y == 2\n",
    "# idxs = torch.where(mask)[0]\n",
    "# leave_idxs = torch.cat([idxs[torch.randperm(idxs.numel(), generator=generator)[:200]], torch.where(~mask)[0]], dim=0)\n",
    "# data_X = data_X[leave_idxs]\n",
    "# data_y = data_y[leave_idxs]\n",
    "# data_position = data_position[leave_idxs]\n",
    "# \n",
    "# mask = data_y == 3\n",
    "# idxs = torch.where(mask)[0]\n",
    "# leave_idxs = torch.cat([idxs[torch.randperm(idxs.numel(), generator=generator)[:200]], torch.where(~mask)[0]], dim=0)\n",
    "# data_X = data_X[leave_idxs]\n",
    "# data_y = data_y[leave_idxs]\n",
    "# data_position = data_position[leave_idxs]"
   ],
   "id": "746264869174357b",
   "outputs": [],
   "execution_count": 5
  },
  {
   "metadata": {
    "ExecuteTime": {
     "end_time": "2025-07-02T22:04:04.080510Z",
     "start_time": "2025-07-02T22:04:02.705861Z"
    }
   },
   "cell_type": "code",
   "source": [
    "from torchrl.data import Bounded\n",
    "\n",
    "import torch\n",
    "import torch.nn.functional as F\n",
    "from torch_geometric.nn import GCNConv\n",
    "\n",
    "class DistanceGNN(torch.nn.Module):\n",
    "    def __init__(self, num_node_features, hidden_channels):\n",
    "        super(DistanceGNN, self).__init__()\n",
    "        # Input layer\n",
    "        self.conv1 = GCNConv(num_node_features, hidden_channels)\n",
    "        # Hidden layer\n",
    "        self.conv2 = GCNConv(hidden_channels, hidden_channels)\n",
    "        # Output layer - predicts a single value (distance)\n",
    "        #self.out = torch.nn.Linear(hidden_channels, 128)\n",
    "        self.out2 = torch.nn.Linear(128, 4)\n",
    "\n",
    "    def forward(self, x):#, edge_index, pos):\n",
    "        # 1. First GCN layer + non-linearity\n",
    "        # batch_size = x.shape[0]\n",
    "        # addition = torch.arange(batch_size, device=x.device) * x.shape[1]\n",
    "        # edge_index = edge_index.clone() + addition.reshape(-1, 1, 1)\n",
    "        # edge_index = edge_index.transpose(1, 0).reshape(2, -1)\n",
    "        # pos_mod = pos.clone() + addition\n",
    "        # x = x.clone().reshape(-1, *x.shape[2:])\n",
    "        # \n",
    "        # x = self.conv1(x, edge_index)\n",
    "        # x = F.relu(x)\n",
    "        # \n",
    "        # # 2. Second GCN layer + non-linearity\n",
    "        # x = self.conv2(x, edge_index)\n",
    "        # x = F.relu(x)\n",
    "        # poses = env_map.get_neighbors(pos) + addition.reshape(-1, 1)  # Get neighbors of current positions\n",
    "        # poses = torch.cat([poses, pos_mod.unsqueeze(1)], dim=1)  # Add current position to neighbors\n",
    "        # x = x[poses].reshape(batch_size, -1)\n",
    "        #x = self.lin1(x)\n",
    "        #x = F.relu(x)\n",
    "        #x = self.lin2(x)\n",
    "        # 3. Readout/Output layer to get the final regression value\n",
    "        #x = self.out(x)\n",
    "        #x = F.relu(x)\n",
    "        x = self.out2(x)\n",
    "        \n",
    "        return x # Remove last dimension to get a vector of N distances\n",
    "\n",
    "from algorithms.simple_nn import GNNBackbone, ActorHead\n",
    "from algorithms.keys_processors import CombinedExtractor\n",
    "\n",
    "# attacker_extractor = CombinedExtractor(player_type=1, env=env, actions=[])\n",
    "# backbone = GNNBackbone(\n",
    "#     extractor=attacker_extractor,\n",
    "#     embedding_size=32,\n",
    "#     hidden_size=32,\n",
    "# ).to(device)\n",
    "# \n",
    "# regression = torch.nn.Sequential(\n",
    "#     torch.nn.Linear(32, 1),\n",
    "# ).to(device)\n",
    "# \n",
    "# model = torch.nn.Sequential(\n",
    "#     backbone,\n",
    "#     regression,\n",
    "# ).to(device)\n",
    "\n",
    "model1 = GNNBackbone(\n",
    "    extractor=CombinedExtractor(player_type=1, env=env, actions=[]),\n",
    "    embedding_size=128,\n",
    "    hidden_size=32,\n",
    ")\n",
    "model2 = DistanceGNN(3, 128).to(device)\n",
    "model = torch.nn.Sequential(\n",
    "    model1,\n",
    "    model2,\n",
    ").to(device)\n",
    "\n",
    "# action_spec = Bounded(\n",
    "#     shape=torch.Size((1,)),\n",
    "#     low=0,\n",
    "#     high=env.action_size - 1,\n",
    "#     dtype=torch.int32,\n",
    "# )\n",
    "# \n",
    "# actor = ActorHead(\n",
    "#     embedding_size=32,\n",
    "#     player_type=1,\n",
    "#     device=device,\n",
    "#     action_spec=action_spec,\n",
    "#     hidden_size=64,\n",
    "# )\n",
    "\n",
    "# model = torch.nn.Sequential(\n",
    "#     backbone,\n",
    "#     actor,\n",
    "# )"
   ],
   "id": "e787a1fa7c724c27",
   "outputs": [],
   "execution_count": 5
  },
  {
   "metadata": {
    "ExecuteTime": {
     "end_time": "2025-07-01T22:18:42.504197Z",
     "start_time": "2025-07-01T22:18:42.500239Z"
    }
   },
   "cell_type": "code",
   "source": "(data_y == 2).sum()",
   "id": "1882e0ae0685538a",
   "outputs": [
    {
     "data": {
      "text/plain": [
       "tensor(798, device='cuda:0')"
      ]
     },
     "execution_count": 9,
     "metadata": {},
     "output_type": "execute_result"
    }
   ],
   "execution_count": 9
  },
  {
   "metadata": {
    "ExecuteTime": {
     "end_time": "2025-07-02T22:04:06.352578Z",
     "start_time": "2025-07-02T22:04:06.350283Z"
    }
   },
   "cell_type": "code",
   "source": [
    "loss = torch.nn.MSELoss()\n",
    "#loss = torch.nn.CrossEntropyLoss()\n",
    "optimizer = torch.optim.Adam(model.parameters(), lr=5e-3)"
   ],
   "id": "134638b0d2154581",
   "outputs": [],
   "execution_count": 6
  },
  {
   "metadata": {
    "ExecuteTime": {
     "end_time": "2025-07-01T21:22:04.283953Z",
     "start_time": "2025-07-01T21:22:04.279212Z"
    }
   },
   "cell_type": "code",
   "source": "(data_y == 0).sum()",
   "id": "a8766d23043aca4d",
   "outputs": [
    {
     "data": {
      "text/plain": [
       "tensor(900, device='cuda:0')"
      ]
     },
     "execution_count": 19,
     "metadata": {},
     "output_type": "execute_result"
    }
   ],
   "execution_count": 19
  },
  {
   "metadata": {
    "ExecuteTime": {
     "end_time": "2025-07-01T21:25:33.877943Z",
     "start_time": "2025-07-01T21:25:33.864248Z"
    }
   },
   "cell_type": "code",
   "source": "data_X.shape",
   "id": "c6555254665b5ada",
   "outputs": [
    {
     "data": {
      "text/plain": [
       "torch.Size([1800, 2, 10, 1])"
      ]
     },
     "execution_count": 25,
     "metadata": {},
     "output_type": "execute_result"
    }
   ],
   "execution_count": 25
  },
  {
   "metadata": {
    "ExecuteTime": {
     "end_time": "2025-07-02T22:05:11.031081Z",
     "start_time": "2025-07-02T22:04:11.182431Z"
    }
   },
   "cell_type": "code",
   "source": [
    "batch_size = 5000\n",
    "for epoch in range(100):\n",
    "    losses = []\n",
    "    for i in range(0, len(data_X), batch_size):\n",
    "        edges = env_map.edge_index.repeat(min(batch_size, len(data_X) - i), 1, 1)\n",
    "        #edges = env_map.edge_index\n",
    "        #pos = data_position[i:i+batch_size]\n",
    "        batch_X = data_X[i:i+batch_size]#[i:i+batch_size]\n",
    "        batch_y = data_y[i:i+batch_size]\n",
    "        pos = data_position[i:i+batch_size] # .reshape(-1, 1, 1).repeat(1, 2, 1)\n",
    "\n",
    "        optimizer.zero_grad()\n",
    "        output = model1(\n",
    "            batch_X, \n",
    "            edges, \n",
    "            pos.reshape(-1, 1, 1).repeat(1, 2, 1), \n",
    "            env_map.get_neighbors(pos).reshape(-1, 1, 4).repeat(1, 2, 1),\n",
    "        )\n",
    "        output = model2(output)\n",
    "        #output = regression(output)\n",
    "        #output = actor(output, torch.ones((2, 7), dtype=torch.bool, device=device))\n",
    "        loss_value = loss(output, batch_y)\n",
    "        losses.append(loss_value.item())\n",
    "        loss_value.backward()\n",
    "        optimizer.step()\n",
    "    print(f\"Epoch {epoch+1}, Loss: {sum(losses) / len(losses)}\")"
   ],
   "id": "fd15de2921ffa67c",
   "outputs": [
    {
     "name": "stdout",
     "output_type": "stream",
     "text": [
      "Epoch 1, Loss: 1.846469521522522\n",
      "Epoch 2, Loss: 1.559464931488037\n",
      "Epoch 3, Loss: 1.2004756927490234\n",
      "Epoch 4, Loss: 0.7113326191902161\n",
      "Epoch 5, Loss: 0.3671416938304901\n",
      "Epoch 6, Loss: 0.974967360496521\n",
      "Epoch 7, Loss: 0.6127938628196716\n",
      "Epoch 8, Loss: 0.3742115795612335\n",
      "Epoch 9, Loss: 0.4210272431373596\n",
      "Epoch 10, Loss: 0.5304561257362366\n",
      "Epoch 11, Loss: 0.5923111438751221\n",
      "Epoch 12, Loss: 0.5936586856842041\n",
      "Epoch 13, Loss: 0.5489507913589478\n",
      "Epoch 14, Loss: 0.47851723432540894\n",
      "Epoch 15, Loss: 0.407805860042572\n",
      "Epoch 16, Loss: 0.36903926730155945\n",
      "Epoch 17, Loss: 0.3842388093471527\n",
      "Epoch 18, Loss: 0.43329960107803345\n",
      "Epoch 19, Loss: 0.4562920331954956\n",
      "Epoch 20, Loss: 0.4280635714530945\n",
      "Epoch 21, Loss: 0.3846243619918823\n",
      "Epoch 22, Loss: 0.36360979080200195\n",
      "Epoch 23, Loss: 0.369406133890152\n",
      "Epoch 24, Loss: 0.3867608606815338\n",
      "Epoch 25, Loss: 0.40048471093177795\n",
      "Epoch 26, Loss: 0.40288540720939636\n",
      "Epoch 27, Loss: 0.3935428261756897\n",
      "Epoch 28, Loss: 0.3773391544818878\n",
      "Epoch 29, Loss: 0.3621900677680969\n",
      "Epoch 30, Loss: 0.3557489514350891\n",
      "Epoch 31, Loss: 0.36055585741996765\n",
      "Epoch 32, Loss: 0.3706364333629608\n",
      "Epoch 33, Loss: 0.3754156529903412\n",
      "Epoch 34, Loss: 0.369903564453125\n",
      "Epoch 35, Loss: 0.359116792678833\n",
      "Epoch 36, Loss: 0.35138604044914246\n",
      "Epoch 37, Loss: 0.35038670897483826\n",
      "Epoch 38, Loss: 0.3539910614490509\n",
      "Epoch 39, Loss: 0.3578302264213562\n",
      "Epoch 40, Loss: 0.3584776222705841\n",
      "Epoch 41, Loss: 0.35518255829811096\n",
      "Epoch 42, Loss: 0.34951311349868774\n",
      "Epoch 43, Loss: 0.34431594610214233\n",
      "Epoch 44, Loss: 0.3418302536010742\n",
      "Epoch 45, Loss: 0.34187352657318115\n",
      "Epoch 46, Loss: 0.3419707417488098\n",
      "Epoch 47, Loss: 0.3399437665939331\n",
      "Epoch 48, Loss: 0.3361194133758545\n",
      "Epoch 49, Loss: 0.3327818214893341\n",
      "Epoch 50, Loss: 0.33090171217918396\n",
      "Epoch 51, Loss: 0.3288370668888092\n",
      "Epoch 52, Loss: 0.3248426616191864\n",
      "Epoch 53, Loss: 0.3210361897945404\n",
      "Epoch 54, Loss: 0.3184857964515686\n",
      "Epoch 55, Loss: 0.3155288100242615\n",
      "Epoch 56, Loss: 0.3109426200389862\n",
      "Epoch 57, Loss: 0.30577367544174194\n",
      "Epoch 58, Loss: 0.3017364740371704\n",
      "Epoch 59, Loss: 0.29721343517303467\n",
      "Epoch 60, Loss: 0.29087603092193604\n",
      "Epoch 61, Loss: 0.2845839858055115\n",
      "Epoch 62, Loss: 0.278733491897583\n",
      "Epoch 63, Loss: 0.27206093072891235\n",
      "Epoch 64, Loss: 0.2655960023403168\n",
      "Epoch 65, Loss: 0.25985169410705566\n",
      "Epoch 66, Loss: 0.2533583641052246\n",
      "Epoch 67, Loss: 0.24740000069141388\n",
      "Epoch 68, Loss: 0.24284498393535614\n",
      "Epoch 69, Loss: 0.23845529556274414\n",
      "Epoch 70, Loss: 0.23601336777210236\n",
      "Epoch 71, Loss: 0.23373688757419586\n",
      "Epoch 72, Loss: 0.2329089343547821\n",
      "Epoch 73, Loss: 0.23221610486507416\n",
      "Epoch 74, Loss: 0.23183807730674744\n",
      "Epoch 75, Loss: 0.23124675452709198\n",
      "Epoch 76, Loss: 0.23031112551689148\n",
      "Epoch 77, Loss: 0.22842396795749664\n",
      "Epoch 78, Loss: 0.2257053703069687\n",
      "Epoch 79, Loss: 0.22327245771884918\n",
      "Epoch 80, Loss: 0.22032544016838074\n",
      "Epoch 81, Loss: 0.21775750815868378\n",
      "Epoch 82, Loss: 0.21605585515499115\n",
      "Epoch 83, Loss: 0.21353662014007568\n",
      "Epoch 84, Loss: 0.2115790992975235\n",
      "Epoch 85, Loss: 0.21018952131271362\n",
      "Epoch 86, Loss: 0.20791591703891754\n",
      "Epoch 87, Loss: 0.20693351328372955\n",
      "Epoch 88, Loss: 0.20421744883060455\n",
      "Epoch 89, Loss: 0.2025986909866333\n",
      "Epoch 90, Loss: 0.19976581633090973\n",
      "Epoch 91, Loss: 0.197698712348938\n",
      "Epoch 92, Loss: 0.1948910802602768\n",
      "Epoch 93, Loss: 0.19320102035999298\n",
      "Epoch 94, Loss: 0.1906280666589737\n",
      "Epoch 95, Loss: 0.189034566283226\n",
      "Epoch 96, Loss: 0.18676035106182098\n",
      "Epoch 97, Loss: 0.18414726853370667\n",
      "Epoch 98, Loss: 0.18203505873680115\n",
      "Epoch 99, Loss: 0.1795845329761505\n",
      "Epoch 100, Loss: 0.17741785943508148\n"
     ]
    }
   ],
   "execution_count": 7
  },
  {
   "metadata": {
    "ExecuteTime": {
     "end_time": "2025-07-02T22:07:59.739647Z",
     "start_time": "2025-07-02T22:07:59.703448Z"
    }
   },
   "cell_type": "code",
   "source": "torch.save(model1.state_dict(), \"test.pth\")",
   "id": "485149cddbec73ec",
   "outputs": [],
   "execution_count": 8
  },
  {
   "metadata": {
    "ExecuteTime": {
     "end_time": "2025-07-02T21:10:47.381915Z",
     "start_time": "2025-07-02T21:10:47.364299Z"
    }
   },
   "cell_type": "code",
   "source": "torch.sum(data_position == 3)",
   "id": "ce71c51cee61ba1d",
   "outputs": [
    {
     "data": {
      "text/plain": [
       "tensor(2699, device='cuda:0')"
      ]
     },
     "execution_count": 38,
     "metadata": {},
     "output_type": "execute_result"
    }
   ],
   "execution_count": 38
  },
  {
   "metadata": {
    "ExecuteTime": {
     "end_time": "2025-07-02T21:02:16.186806Z",
     "start_time": "2025-07-02T21:02:16.169010Z"
    }
   },
   "cell_type": "code",
   "source": "data_y[data_position == 4]",
   "id": "9bfcc0419b8b0ae7",
   "outputs": [
    {
     "data": {
      "text/plain": [
       "tensor([0., 0., 1.,  ..., 0., 0., 0.], device='cuda:0')"
      ]
     },
     "execution_count": 10,
     "metadata": {},
     "output_type": "execute_result"
    }
   ],
   "execution_count": 10
  },
  {
   "metadata": {
    "ExecuteTime": {
     "end_time": "2025-07-02T21:03:02.363929Z",
     "start_time": "2025-07-02T21:03:02.352717Z"
    }
   },
   "cell_type": "code",
   "source": "data_X[data_position == 4, 1, 4]",
   "id": "c42aa50570664ccb",
   "outputs": [
    {
     "data": {
      "text/plain": [
       "tensor([[1., 1., 0.],\n",
       "        [1., 0., 0.],\n",
       "        [1., 0., 1.],\n",
       "        ...,\n",
       "        [1., 1., 0.],\n",
       "        [1., 1., 0.],\n",
       "        [1., 0., 0.]], device='cuda:0')"
      ]
     },
     "execution_count": 13,
     "metadata": {},
     "output_type": "execute_result"
    }
   ],
   "execution_count": 13
  },
  {
   "metadata": {
    "ExecuteTime": {
     "end_time": "2025-07-01T20:15:28.151785Z",
     "start_time": "2025-07-01T20:15:28.140147Z"
    }
   },
   "cell_type": "code",
   "source": "torch.sum(data_y == 1)",
   "id": "97c116a09e284d3b",
   "outputs": [
    {
     "data": {
      "text/plain": [
       "tensor(695, device='cuda:0')"
      ]
     },
     "execution_count": 9,
     "metadata": {},
     "output_type": "execute_result"
    }
   ],
   "execution_count": 9
  },
  {
   "metadata": {
    "ExecuteTime": {
     "end_time": "2025-07-01T21:47:56.961116Z",
     "start_time": "2025-07-01T21:47:56.934725Z"
    }
   },
   "cell_type": "code",
   "source": "env._get_graph_x(torch.full((2, NUM_NODES), -NUM_STEPS, dtype=torch.int32, device=device))[:1].shape",
   "id": "966be0e839aaaa78",
   "outputs": [
    {
     "data": {
      "text/plain": [
       "torch.Size([1, 10, 1])"
      ]
     },
     "execution_count": 17,
     "metadata": {},
     "output_type": "execute_result"
    }
   ],
   "execution_count": 17
  },
  {
   "metadata": {
    "ExecuteTime": {
     "end_time": "2025-07-01T21:57:48.823497Z",
     "start_time": "2025-07-01T21:57:48.788625Z"
    }
   },
   "cell_type": "code",
   "source": "data_X[0, 1]",
   "id": "1c48cfd3296ae2e8",
   "outputs": [
    {
     "data": {
      "text/plain": [
       "tensor([[0.],\n",
       "        [0.],\n",
       "        [1.],\n",
       "        [0.],\n",
       "        [1.],\n",
       "        [0.],\n",
       "        [0.],\n",
       "        [0.],\n",
       "        [0.],\n",
       "        [0.]], device='cuda:0')"
      ]
     },
     "execution_count": 23,
     "metadata": {},
     "output_type": "execute_result"
    }
   ],
   "execution_count": 23
  },
  {
   "metadata": {
    "ExecuteTime": {
     "end_time": "2025-07-02T21:08:13.232793Z",
     "start_time": "2025-07-02T21:08:13.223626Z"
    }
   },
   "cell_type": "code",
   "source": "env._get_graph_x(torch.full((2, NUM_NODES), -NUM_STEPS, dtype=torch.int32, device=device))[1:]",
   "id": "a640f5414b3fda86",
   "outputs": [
    {
     "data": {
      "text/plain": [
       "tensor([[[ 0., -1., -1.],\n",
       "         [ 0., -1., -1.],\n",
       "         [ 1., -1., -1.],\n",
       "         [ 0., -1., -1.],\n",
       "         [ 1., -1., -1.],\n",
       "         [ 0.,  0.,  0.],\n",
       "         [ 0., -1., -1.],\n",
       "         [ 0., -1., -1.],\n",
       "         [ 0., -1., -1.],\n",
       "         [ 0., -1., -1.]]], device='cuda:0')"
      ]
     },
     "execution_count": 19,
     "metadata": {},
     "output_type": "execute_result"
    }
   ],
   "execution_count": 19
  },
  {
   "metadata": {
    "ExecuteTime": {
     "end_time": "2025-07-02T21:25:42.012245Z",
     "start_time": "2025-07-02T21:25:41.997291Z"
    }
   },
   "cell_type": "code",
   "source": [
    "pos = torch.tensor([[[0], [2]]], dtype=torch.int64, device=device)\n",
    "print(env_map.get_neighbors(pos[0][1]).squeeze(0))\n",
    "env.nodes_prepared = torch.zeros_like(env.nodes_prepared, dtype=torch.bool, device=device)\n",
    "#env.nodes_prepared[pos[0][1][0]] = True\n",
    "env.nodes_collected = torch.zeros_like(env.nodes_collected, dtype=torch.bool, device=device)\n",
    "env.nodes_collected[4] = False\n",
    "env.position = pos.reshape(2)\n",
    "with torch.no_grad():\n",
    "    print(model(env._get_graph_x(torch.full((2, NUM_NODES), -NUM_STEPS, dtype=torch.int32, device=device))[1:], env_map.edge_index, pos[0, 1]))\n",
    "    #embeddings = backbone(env._get_graph_x(torch.full((2, NUM_NODES), -NUM_STEPS, dtype=torch.int32, device=device)), env_map.edge_index, pos)\n",
    "    #print(torch.softmax(actor(embeddings, torch.ones((2, 7), dtype=torch.bool, device=device)).cpu(), dim=1))\n",
    "    #print(regression(embeddings))"
   ],
   "id": "5f10b4e42b3409cf",
   "outputs": [
    {
     "name": "stdout",
     "output_type": "stream",
     "text": [
      "tensor([0, 1, 3, 4], device='cuda:0')\n",
      "tensor([[1.0478, 1.3608, 0.7249, 0.0132]], device='cuda:0')\n"
     ]
    }
   ],
   "execution_count": 12
  },
  {
   "metadata": {
    "ExecuteTime": {
     "end_time": "2025-07-01T19:59:34.722674Z",
     "start_time": "2025-07-01T19:59:34.701831Z"
    }
   },
   "cell_type": "code",
   "source": "torch.where(torch.arange(10, device=device) == env.position[1].item(), env.nodes_prepared.float(), -1)",
   "id": "d04fe8d2ed61f88d",
   "outputs": [
    {
     "data": {
      "text/plain": [
       "tensor([-1., -1.,  1., -1., -1., -1., -1., -1., -1., -1.], device='cuda:0')"
      ]
     },
     "execution_count": 35,
     "metadata": {},
     "output_type": "execute_result"
    }
   ],
   "execution_count": 35
  },
  {
   "metadata": {
    "ExecuteTime": {
     "end_time": "2025-07-01T20:02:01.995410Z",
     "start_time": "2025-07-01T20:02:01.985669Z"
    }
   },
   "cell_type": "code",
   "source": [
    "pos = torch.tensor([[[0], [2]]], dtype=torch.int64, device=device)\n",
    "env.position = pos.reshape(2)"
   ],
   "id": "98bed24ece5b5d9a",
   "outputs": [],
   "execution_count": 4
  },
  {
   "metadata": {
    "ExecuteTime": {
     "end_time": "2025-07-01T22:21:28.363181Z",
     "start_time": "2025-07-01T22:21:28.343285Z"
    }
   },
   "cell_type": "code",
   "source": [
    "env.nodes_prepared[2] = True\n",
    "env.nodes_prepared"
   ],
   "id": "3779956d7bb0744d",
   "outputs": [
    {
     "data": {
      "text/plain": [
       "tensor([False, False,  True, False, False, False, False, False, False, False],\n",
       "       device='cuda:0')"
      ]
     },
     "execution_count": 29,
     "metadata": {},
     "output_type": "execute_result"
    }
   ],
   "execution_count": 29
  },
  {
   "metadata": {
    "ExecuteTime": {
     "end_time": "2025-07-01T22:21:32.084728Z",
     "start_time": "2025-07-01T22:21:32.075578Z"
    }
   },
   "cell_type": "code",
   "source": "env._get_graph_x(torch.full((2, NUM_NODES), -NUM_STEPS, dtype=torch.int32, device=device))[1,2]",
   "id": "c4e22fee3ce7f735",
   "outputs": [
    {
     "data": {
      "text/plain": [
       "tensor([1., 1., 1.], device='cuda:0')"
      ]
     },
     "execution_count": 30,
     "metadata": {},
     "output_type": "execute_result"
    }
   ],
   "execution_count": 30
  },
  {
   "metadata": {
    "ExecuteTime": {
     "end_time": "2025-06-29T22:30:18.666722Z",
     "start_time": "2025-06-29T22:30:18.648414Z"
    }
   },
   "cell_type": "code",
   "source": "env.nodes_prepared",
   "id": "35d5fd1a83472df1",
   "outputs": [
    {
     "data": {
      "text/plain": [
       "tensor([False, False, False, False, False, False, False, False, False, False],\n",
       "       device='cuda:0')"
      ]
     },
     "execution_count": 3,
     "metadata": {},
     "output_type": "execute_result"
    }
   ],
   "execution_count": 3
  },
  {
   "metadata": {
    "ExecuteTime": {
     "end_time": "2025-06-29T22:29:52.139394Z",
     "start_time": "2025-06-29T22:29:52.005993Z"
    }
   },
   "cell_type": "code",
   "source": "env_map.reward_nodes",
   "id": "f072a6d4668f022a",
   "outputs": [
    {
     "ename": "NameError",
     "evalue": "name 'env_map' is not defined",
     "output_type": "error",
     "traceback": [
      "\u001B[31m---------------------------------------------------------------------------\u001B[39m",
      "\u001B[31mNameError\u001B[39m                                 Traceback (most recent call last)",
      "\u001B[36mCell\u001B[39m\u001B[36m \u001B[39m\u001B[32mIn[2]\u001B[39m\u001B[32m, line 1\u001B[39m\n\u001B[32m----> \u001B[39m\u001B[32m1\u001B[39m \u001B[43menv_map\u001B[49m.reward_nodes\n",
      "\u001B[31mNameError\u001B[39m: name 'env_map' is not defined"
     ]
    }
   ],
   "execution_count": 2
  },
  {
   "metadata": {},
   "cell_type": "code",
   "outputs": [],
   "execution_count": null,
   "source": "",
   "id": "27fc3f4c1a3b7ecb"
  }
 ],
 "metadata": {
  "kernelspec": {
   "display_name": "Python 3",
   "language": "python",
   "name": "python3"
  },
  "language_info": {
   "codemirror_mode": {
    "name": "ipython",
    "version": 2
   },
   "file_extension": ".py",
   "mimetype": "text/x-python",
   "name": "python",
   "nbconvert_exporter": "python",
   "pygments_lexer": "ipython2",
   "version": "2.7.6"
  }
 },
 "nbformat": 4,
 "nbformat_minor": 5
}
